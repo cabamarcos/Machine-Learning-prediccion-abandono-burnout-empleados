{
  "nbformat": 4,
  "nbformat_minor": 0,
  "metadata": {
    "colab": {
      "provenance": [],
      "toc_visible": true,
      "include_colab_link": true
    },
    "kernelspec": {
      "name": "python3",
      "display_name": "Python 3"
    },
    "language_info": {
      "name": "python"
    }
  },
  "cells": [
    {
      "cell_type": "markdown",
      "metadata": {
        "id": "view-in-github",
        "colab_type": "text"
      },
      "source": [
        "<a href=\"https://colab.research.google.com/github/cabamarcos/Grupo27_practica2/blob/main/Grupo27_practica2.ipynb\" target=\"_parent\"><img src=\"https://colab.research.google.com/assets/colab-badge.svg\" alt=\"Open In Colab\"/></a>"
      ]
    },
    {
      "cell_type": "markdown",
      "source": [
        "#1. Importación de librerías y datos"
      ],
      "metadata": {
        "id": "TYFyiH8a4RIl"
      }
    },
    {
      "cell_type": "markdown",
      "source": [
        "Hacemos los imports correspondientes\n",
        "\n"
      ],
      "metadata": {
        "id": "qwkgXjdQ4KNP"
      }
    },
    {
      "cell_type": "code",
      "execution_count": 1,
      "metadata": {
        "id": "4PkaR_3K2r0Q"
      },
      "outputs": [],
      "source": [
        "import pandas as pd\n",
        "import numpy as np\n",
        "import pickle\n",
        "import matplotlib.pyplot as plt\n",
        "import seaborn as sns\n",
        "import scipy.stats as st\n",
        "import time\n",
        "\n",
        "from sklearn.pipeline import make_pipeline\n",
        "from sklearn.pipeline import Pipeline\n",
        "from sklearn.impute import SimpleImputer\n",
        "from sklearn.metrics import confusion_matrix\n",
        "from sklearn.metrics import f1_score\n",
        "from sklearn.ensemble import AdaBoostClassifier\n",
        "from sklearn.tree import DecisionTreeClassifier\n",
        "from sklearn.metrics import make_scorer\n",
        "from sklearn.model_selection import GridSearchCV\n",
        "from sklearn.ensemble import GradientBoostingClassifier\n",
        "import xgboost as xgb\n",
        "from sklearn.feature_selection import SelectKBest, chi2, f_classif, mutual_info_classif \n",
        "\n",
        "\n",
        "import missingno as msno\n",
        "from sklearn.preprocessing import OneHotEncoder\n",
        "from sklearn.impute import KNNImputer\n",
        "\n",
        "#preprocessing\n",
        "from sklearn import preprocessing\n",
        "from sklearn.compose import make_column_selector as selector\n",
        "from sympy import *\n",
        "from sklearn.preprocessing import RobustScaler\n",
        "from sklearn.preprocessing import StandardScaler\n",
        "from sklearn.manifold import TSNE\n",
        "from sklearn.decomposition import PCA\n",
        "from sklearn.cluster import KMeans\n",
        "\n",
        "#traintest\n",
        "from sklearn.model_selection import train_test_split\n",
        "from sklearn import metrics\n",
        "from sklearn.metrics import mean_absolute_error\n",
        "from sklearn.metrics import mean_squared_error\n",
        "\n",
        "#logistic regression\n",
        "from sklearn.linear_model import LogisticRegression\n",
        "from sklearn.metrics import balanced_accuracy_score"
      ]
    },
    {
      "cell_type": "code",
      "source": [
        "with open('attrition_available_27.pkl', 'rb') as archivo:\n",
        "    datos = pickle.load(archivo)\n",
        "\n",
        "print(datos)"
      ],
      "metadata": {
        "colab": {
          "base_uri": "https://localhost:8080/"
        },
        "id": "bKaTlZ5R4YZO",
        "outputId": "aa68013b-6b76-402e-fc46-c443683268f5"
      },
      "execution_count": 3,
      "outputs": [
        {
          "output_type": "stream",
          "name": "stdout",
          "text": [
            "           hrs  absences  JobInvolvement  PerformanceRating  \\\n",
            "1     7.315971      13.0             2.0                4.0   \n",
            "6     6.450877      17.0             3.0                4.0   \n",
            "13    8.871421      14.0             2.0                3.0   \n",
            "28         NaN       6.0             2.0                3.0   \n",
            "30    9.662808      11.0             2.0                3.0   \n",
            "...        ...       ...             ...                ...   \n",
            "4405  8.316921       6.0             3.0                3.0   \n",
            "4406  5.897197       NaN             2.0                3.0   \n",
            "4407       NaN      18.0             3.0                4.0   \n",
            "4408  9.187612       NaN             2.0                3.0   \n",
            "4409  6.511790      17.0             4.0                3.0   \n",
            "\n",
            "      EnvironmentSatisfaction  JobSatisfaction  WorkLifeBalance   Age  \\\n",
            "1                         3.0              2.0              4.0  31.0   \n",
            "6                         1.0              3.0              1.0   NaN   \n",
            "13                        1.0              2.0              2.0   NaN   \n",
            "28                        4.0              3.0              1.0  44.0   \n",
            "30                        1.0              2.0              3.0  26.0   \n",
            "...                       ...              ...              ...   ...   \n",
            "4405                      4.0              1.0              3.0  42.0   \n",
            "4406                      4.0              4.0              3.0  29.0   \n",
            "4407                      1.0              3.0              3.0  25.0   \n",
            "4408                      4.0              1.0              NaN  42.0   \n",
            "4409                      NaN              3.0              NaN   NaN   \n",
            "\n",
            "     Attrition     BusinessTravel  ... NumCompaniesWorked  Over18  \\\n",
            "1          Yes  Travel_Frequently  ...                0.0       Y   \n",
            "6          Yes      Travel_Rarely  ...                2.0       Y   \n",
            "13         Yes         Non-Travel  ...                NaN       Y   \n",
            "28         Yes  Travel_Frequently  ...                NaN       Y   \n",
            "30         Yes                NaN  ...                2.0     NaN   \n",
            "...        ...                ...  ...                ...     ...   \n",
            "4405        No      Travel_Rarely  ...                NaN       Y   \n",
            "4406        No      Travel_Rarely  ...                2.0       Y   \n",
            "4407        No      Travel_Rarely  ...                0.0       Y   \n",
            "4408        No      Travel_Rarely  ...                0.0       Y   \n",
            "4409        No      Travel_Rarely  ...                NaN       Y   \n",
            "\n",
            "      PercentSalaryHike StandardHours  StockOptionLevel  TotalWorkingYears  \\\n",
            "1                  23.0             8               NaN                6.0   \n",
            "6                  20.0             8               1.0                5.0   \n",
            "13                 11.0             8               2.0               10.0   \n",
            "28                 14.0             8               1.0               19.0   \n",
            "30                 11.0             8               0.0                NaN   \n",
            "...                 ...           ...               ...                ...   \n",
            "4405               17.0             8               1.0               10.0   \n",
            "4406               15.0             8               0.0                NaN   \n",
            "4407                NaN             8               0.0                NaN   \n",
            "4408               14.0             8               NaN               10.0   \n",
            "4409               12.0             8               NaN                NaN   \n",
            "\n",
            "     TrainingTimesLastYear  YearsAtCompany YearsSinceLastPromotion  \\\n",
            "1                      NaN             NaN                       1   \n",
            "6                      2.0             0.0                       0   \n",
            "13                     4.0            10.0                       9   \n",
            "28                     2.0             1.0                       0   \n",
            "30                     5.0             3.0                       0   \n",
            "...                    ...             ...                     ...   \n",
            "4405                   5.0             NaN                       0   \n",
            "4406                   2.0             3.0                       0   \n",
            "4407                   4.0             NaN                       1   \n",
            "4408                   2.0             9.0                       7   \n",
            "4409                   6.0            21.0                       3   \n",
            "\n",
            "     YearsWithCurrManager  \n",
            "1                     4.0  \n",
            "6                     0.0  \n",
            "13                    9.0  \n",
            "28                    0.0  \n",
            "30                    2.0  \n",
            "...                   ...  \n",
            "4405                  2.0  \n",
            "4406                  NaN  \n",
            "4407                  NaN  \n",
            "4408                  8.0  \n",
            "4409                  9.0  \n",
            "\n",
            "[4410 rows x 31 columns]\n"
          ]
        }
      ]
    },
    {
      "cell_type": "markdown",
      "source": [
        "#2. EDA"
      ],
      "metadata": {
        "id": "dNKxYf7K5Ehw"
      }
    },
    {
      "cell_type": "markdown",
      "source": [
        "## Visualización"
      ],
      "metadata": {
        "id": "WIobNQu-AJSF"
      }
    },
    {
      "cell_type": "markdown",
      "source": [
        "Convertimos los datos en un dataframe"
      ],
      "metadata": {
        "id": "Ik_zDh-65JZJ"
      }
    },
    {
      "cell_type": "code",
      "source": [
        "datosdf = pd.DataFrame(datos)"
      ],
      "metadata": {
        "id": "uvu9Al8I5IAv"
      },
      "execution_count": 6,
      "outputs": []
    },
    {
      "cell_type": "markdown",
      "source": [
        "Sacamos el número de instancias y el número de atributos"
      ],
      "metadata": {
        "id": "woXlE6In6Dul"
      }
    },
    {
      "cell_type": "code",
      "source": [
        "print(\"Número de instancias:\", len(datosdf))\n",
        "print(\"Número de atributos:\", len(datosdf.columns))"
      ],
      "metadata": {
        "colab": {
          "base_uri": "https://localhost:8080/"
        },
        "id": "LfVMgmpN6D6-",
        "outputId": "2f61fb81-0a71-4a39-e320-5778b635843c"
      },
      "execution_count": 7,
      "outputs": [
        {
          "output_type": "stream",
          "name": "stdout",
          "text": [
            "Número de instancias: 4410\n",
            "Número de atributos: 31\n"
          ]
        }
      ]
    },
    {
      "cell_type": "markdown",
      "source": [
        "Vemos el tipo de datos de las instacias"
      ],
      "metadata": {
        "id": "iC46F9QY6Caf"
      }
    },
    {
      "cell_type": "code",
      "source": [
        "print(\"Tipos de datos:\")\n",
        "print(datosdf.dtypes)\n"
      ],
      "metadata": {
        "colab": {
          "base_uri": "https://localhost:8080/"
        },
        "id": "uxYvg8e96C0D",
        "outputId": "33b2e8c0-38c4-4e08-f89b-e827f4fe7498"
      },
      "execution_count": 8,
      "outputs": [
        {
          "output_type": "stream",
          "name": "stdout",
          "text": [
            "Tipos de datos:\n",
            "hrs                        float64\n",
            "absences                   float64\n",
            "JobInvolvement             float64\n",
            "PerformanceRating          float64\n",
            "EnvironmentSatisfaction    float64\n",
            "JobSatisfaction            float64\n",
            "WorkLifeBalance            float64\n",
            "Age                        float64\n",
            "Attrition                   object\n",
            "BusinessTravel              object\n",
            "Department                  object\n",
            "DistanceFromHome           float64\n",
            "Education                  float64\n",
            "EducationField              object\n",
            "EmployeeCount              float64\n",
            "EmployeeID                 float64\n",
            "Gender                      object\n",
            "JobLevel                   float64\n",
            "JobRole                     object\n",
            "MaritalStatus               object\n",
            "MonthlyIncome              float64\n",
            "NumCompaniesWorked         float64\n",
            "Over18                      object\n",
            "PercentSalaryHike          float64\n",
            "StandardHours                int64\n",
            "StockOptionLevel           float64\n",
            "TotalWorkingYears          float64\n",
            "TrainingTimesLastYear      float64\n",
            "YearsAtCompany             float64\n",
            "YearsSinceLastPromotion      int64\n",
            "YearsWithCurrManager       float64\n",
            "dtype: object\n"
          ]
        }
      ]
    },
    {
      "cell_type": "markdown",
      "source": [
        "Podemos ver que la mayoría de datos son float, pero también observamos objetos y números enteros"
      ],
      "metadata": {
        "id": "bY575x586ZN2"
      }
    },
    {
      "cell_type": "markdown",
      "source": [
        "## Datos constantes"
      ],
      "metadata": {
        "id": "-i4mH6adAE2K"
      }
    },
    {
      "cell_type": "markdown",
      "source": [
        "Queremos ver si tenemos alguna columna con datos constantes"
      ],
      "metadata": {
        "id": "ytgEMmN29VNw"
      }
    },
    {
      "cell_type": "code",
      "source": [
        "#creamos un array al que le vamos a meter las columnas que son constantes\n",
        "columnas_constantes = []\n",
        "for columna in datosdf.columns:\n",
        "    if datosdf[columna].nunique() == 1:\n",
        "        columnas_constantes.append(columna)\n",
        "\n",
        "if len(columnas_constantes) > 0:\n",
        "    print(\"Las siguientes columnas tienen datos constantes:\")\n",
        "    print(columnas_constantes)\n",
        "else:\n",
        "    print(\"No hay columnas con datos constantes.\")"
      ],
      "metadata": {
        "id": "44E6YDXo9py_",
        "outputId": "65282fe2-cf4b-47fd-c725-b8c1149bd032",
        "colab": {
          "base_uri": "https://localhost:8080/"
        }
      },
      "execution_count": 9,
      "outputs": [
        {
          "output_type": "stream",
          "name": "stdout",
          "text": [
            "Las siguientes columnas tienen datos constantes:\n",
            "['EmployeeCount', 'Over18', 'StandardHours']\n"
          ]
        }
      ]
    },
    {
      "cell_type": "markdown",
      "source": [
        "Podemos ver que tenemos 3 coloumnas con satos constantes:\n",
        " - EmployeeCount: Número de empleados en la compañía.\n",
        " - Over18: Si los empleados son mayores de 18.\n",
        " - StandardHours: El número estándar de horas de trabajo en la empresa.\n",
        "\n",
        "Esto es bastante logico, ya que \"EmployeeCount\" indica el numero de empleados en la compañía, y este, en el momento de sacar los datos, no varía. Podría variar si se vuelven a sacar los datos x días después.\n",
        "\n",
        "\"Over18\", es normal que tenga valores ctes, ya que es un objeto que puede ser o mayor o menor de 18, y sería muy raro que alguien estuviera trabajando en una empresa con menos de 18 años.\n",
        "\n",
        "Finalmente \"StandardHours\" como dice su propio nombre, es el número estandar de horas trabajadas en la compañía. Al ser un número estandar, no es personalizado por lo que siempre es el mismo.\n",
        "\n",
        "Vamos a ver cual es el dato que se repite en cada una de ellas"
      ],
      "metadata": {
        "id": "HfaG4ph39__2"
      }
    },
    {
      "cell_type": "code",
      "source": [
        "print(\"Dato constante en 'EmployeeCount':\", datosdf['EmployeeCount'][0])\n",
        "print(\"Dato constante en 'Over18':\", datosdf['Over18'][0])\n",
        "print(\"Dato constante en 'StandardHours':\", datosdf['StandardHours'][0])"
      ],
      "metadata": {
        "id": "vzXJEtew-WjP",
        "outputId": "e150f922-69fd-47af-c0c6-4c43a9b589aa",
        "colab": {
          "base_uri": "https://localhost:8080/"
        }
      },
      "execution_count": 10,
      "outputs": [
        {
          "output_type": "stream",
          "name": "stdout",
          "text": [
            "Dato constante en 'EmployeeCount': 1.0\n",
            "Dato constante en 'Over18': Y\n",
            "Dato constante en 'StandardHours': 8\n"
          ]
        }
      ]
    },
    {
      "cell_type": "markdown",
      "source": [
        "Vamos a comprobar si existen datos nulos en las columnas que estén pasando desapercibido"
      ],
      "metadata": {
        "id": "WV4GMp8X_sHo"
      }
    },
    {
      "cell_type": "code",
      "source": [
        "print(\"Datos de la columna 'EmployeeCount':\")\n",
        "print(datosdf['EmployeeCount'])\n",
        "\n",
        "print(\"\\nDatos de la columna 'Over18':\")\n",
        "print(datosdf['Over18'])\n",
        "\n",
        "print(\"\\nDatos de la columna 'StandardHours':\")\n",
        "print(datosdf['StandardHours'])"
      ],
      "metadata": {
        "id": "U2rGUgNI_3Dj",
        "outputId": "17e6ad6a-067b-4ffe-8ed1-cfea3d5bf1c5",
        "colab": {
          "base_uri": "https://localhost:8080/"
        }
      },
      "execution_count": 11,
      "outputs": [
        {
          "output_type": "stream",
          "name": "stdout",
          "text": [
            "Datos de la columna 'EmployeeCount':\n",
            "1       1.0\n",
            "6       1.0\n",
            "13      1.0\n",
            "28      1.0\n",
            "30      1.0\n",
            "       ... \n",
            "4405    NaN\n",
            "4406    NaN\n",
            "4407    1.0\n",
            "4408    1.0\n",
            "4409    NaN\n",
            "Name: EmployeeCount, Length: 4410, dtype: float64\n",
            "\n",
            "Datos de la columna 'Over18':\n",
            "1         Y\n",
            "6         Y\n",
            "13        Y\n",
            "28        Y\n",
            "30      NaN\n",
            "       ... \n",
            "4405      Y\n",
            "4406      Y\n",
            "4407      Y\n",
            "4408      Y\n",
            "4409      Y\n",
            "Name: Over18, Length: 4410, dtype: object\n",
            "\n",
            "Datos de la columna 'StandardHours':\n",
            "1       8\n",
            "6       8\n",
            "13      8\n",
            "28      8\n",
            "30      8\n",
            "       ..\n",
            "4405    8\n",
            "4406    8\n",
            "4407    8\n",
            "4408    8\n",
            "4409    8\n",
            "Name: StandardHours, Length: 4410, dtype: int64\n"
          ]
        }
      ]
    },
    {
      "cell_type": "markdown",
      "source": [
        "Podemos ver que esto es cierto, hay datos que faltan."
      ],
      "metadata": {
        "id": "XiKUlhzB_6Px"
      }
    },
    {
      "cell_type": "markdown",
      "source": [
        "Vamo a visualizar mejor los datos con unas gráficas."
      ],
      "metadata": {
        "id": "lHdZN_LlqAx8"
      }
    },
    {
      "cell_type": "code",
      "source": [
        "#Mapa de calor con los valores nulos\n",
        "sns.heatmap(datos.isnull(), cbar=False)"
      ],
      "metadata": {
        "id": "9_COYznMqPtp",
        "outputId": "4a1abdcb-e191-4219-e42a-ac22f0127dbe",
        "colab": {
          "base_uri": "https://localhost:8080/",
          "height": 0
        }
      },
      "execution_count": 12,
      "outputs": [
        {
          "output_type": "execute_result",
          "data": {
            "text/plain": [
              "<Axes: >"
            ]
          },
          "metadata": {},
          "execution_count": 12
        },
        {
          "output_type": "display_data",
          "data": {
            "text/plain": [
              "<Figure size 640x480 with 1 Axes>"
            ],
            "image/png": "[encoded data removed]"
          },
          "metadata": {}
        }
      ]
    },
    {
      "cell_type": "markdown",
      "source": [
        "Gracias a estas gráficas y los datos recogidos anteriormente, podemos ver visualmente que hay 4 atributos incluyendo la variable de salida que no cambian sus valores para todas sus instancias, esto significa que está muy desbalanceado."
      ],
      "metadata": {
        "id": "ri3yW6VPr4uF"
      }
    },
    {
      "cell_type": "markdown",
      "source": [
        "## Datos nulos"
      ],
      "metadata": {
        "id": "qmwsVfL3AAtw"
      }
    },
    {
      "cell_type": "markdown",
      "source": [
        "Vamos a comprobar el numero total de datos nulos en cada columna."
      ],
      "metadata": {
        "id": "OxzMe1sUA7HW"
      }
    },
    {
      "cell_type": "code",
      "source": [
        "nulos_por_columna = datosdf.isnull().sum()\n",
        "porcentaje_nulos_por_columna = (nulos_por_columna / len(datosdf)) * 100\n",
        "\n",
        "for columna in datosdf.columns:\n",
        "    print(f\"datos nulos en'{columna}': {nulos_por_columna[columna]}, porcentaje de datos nulos:{porcentaje_nulos_por_columna[columna]:.2f}%\")"
      ],
      "metadata": {
        "id": "8OAR4HH9AOjK",
        "outputId": "51557383-438e-47f8-97da-8b113c3418ca",
        "colab": {
          "base_uri": "https://localhost:8080/"
        }
      },
      "execution_count": 13,
      "outputs": [
        {
          "output_type": "stream",
          "name": "stdout",
          "text": [
            "datos nulos en'hrs': 905, porcentaje de datos nulos:20.52%\n",
            "datos nulos en'absences': 891, porcentaje de datos nulos:20.20%\n",
            "datos nulos en'JobInvolvement': 718, porcentaje de datos nulos:16.28%\n",
            "datos nulos en'PerformanceRating': 919, porcentaje de datos nulos:20.84%\n",
            "datos nulos en'EnvironmentSatisfaction': 879, porcentaje de datos nulos:19.93%\n",
            "datos nulos en'JobSatisfaction': 948, porcentaje de datos nulos:21.50%\n",
            "datos nulos en'WorkLifeBalance': 769, porcentaje de datos nulos:17.44%\n",
            "datos nulos en'Age': 736, porcentaje de datos nulos:16.69%\n",
            "datos nulos en'Attrition': 0, porcentaje de datos nulos:0.00%\n",
            "datos nulos en'BusinessTravel': 849, porcentaje de datos nulos:19.25%\n",
            "datos nulos en'Department': 782, porcentaje de datos nulos:17.73%\n",
            "datos nulos en'DistanceFromHome': 747, porcentaje de datos nulos:16.94%\n",
            "datos nulos en'Education': 715, porcentaje de datos nulos:16.21%\n",
            "datos nulos en'EducationField': 710, porcentaje de datos nulos:16.10%\n",
            "datos nulos en'EmployeeCount': 822, porcentaje de datos nulos:18.64%\n",
            "datos nulos en'EmployeeID': 796, porcentaje de datos nulos:18.05%\n",
            "datos nulos en'Gender': 932, porcentaje de datos nulos:21.13%\n",
            "datos nulos en'JobLevel': 782, porcentaje de datos nulos:17.73%\n",
            "datos nulos en'JobRole': 782, porcentaje de datos nulos:17.73%\n",
            "datos nulos en'MaritalStatus': 0, porcentaje de datos nulos:0.00%\n",
            "datos nulos en'MonthlyIncome': 929, porcentaje de datos nulos:21.07%\n",
            "datos nulos en'NumCompaniesWorked': 936, porcentaje de datos nulos:21.22%\n",
            "datos nulos en'Over18': 924, porcentaje de datos nulos:20.95%\n",
            "datos nulos en'PercentSalaryHike': 788, porcentaje de datos nulos:17.87%\n",
            "datos nulos en'StandardHours': 0, porcentaje de datos nulos:0.00%\n",
            "datos nulos en'StockOptionLevel': 708, porcentaje de datos nulos:16.05%\n",
            "datos nulos en'TotalWorkingYears': 898, porcentaje de datos nulos:20.36%\n",
            "datos nulos en'TrainingTimesLastYear': 887, porcentaje de datos nulos:20.11%\n",
            "datos nulos en'YearsAtCompany': 956, porcentaje de datos nulos:21.68%\n",
            "datos nulos en'YearsSinceLastPromotion': 0, porcentaje de datos nulos:0.00%\n",
            "datos nulos en'YearsWithCurrManager': 895, porcentaje de datos nulos:20.29%\n"
          ]
        }
      ]
    },
    {
      "cell_type": "markdown",
      "source": [
        "Se puede observar que en ciertas columnas no hay ni un solo missing value, mientras que en otras, el % de missing values puede llegar hasta el 0,21%, más de un quinto de los datos faltan.\n"
      ],
      "metadata": {
        "id": "gtkrZFy4D4ZI"
      }
    },
    {
      "cell_type": "markdown",
      "source": [
        "## Tipo de problema"
      ],
      "metadata": {
        "id": "H6eq4FmPi6Up"
      }
    },
    {
      "cell_type": "markdown",
      "source": [
        "Podría tratarse de un problema de regresión por lo que nos piden en el enunciado, pero podemos ver que la variable de salida no es contínua, por lo que no podemos garantizar que se pueda llevar a cabo.\n",
        "\n",
        "Dadas las circunstancias podemos ver que el problema sería de clasificación binaria, en la que la variable de salida 'Attrition' nos muesta si los empleados abandonan o no la empresa"
      ],
      "metadata": {
        "id": "r_XW8zlLjLfV"
      }
    },
    {
      "cell_type": "markdown",
      "source": [
        "## ¿Problema desbalanceado?\n"
      ],
      "metadata": {
        "id": "BgBMVK_akJUN"
      }
    },
    {
      "cell_type": "markdown",
      "source": [
        "Se trata de un problema desbalanceado, ya que la variable de salida se encuentra desbalanceada, ya que hay una variable mayoritaria en este atributo, como podemos ver en las gráficas anteriores.\n",
        "\n",
        "Además, las instancias de los diferentes atributos no son las mismas en cada uno de ellos, hay atributos con clases mayoritarias que contienen más datos y otras menos, pero también hay atributos que tienen demasiados missing values.\n",
        "\n",
        "Para tratarlo vamos a ver varios métodos que estudiaremos en los siguientes apartados."
      ],
      "metadata": {
        "id": "ysnQW6WBkOdj"
      }
    },
    {
      "cell_type": "markdown",
      "source": [
        "# División de datos"
      ],
      "metadata": {
        "id": "8RNBJMgDizh1"
      }
    },
    {
      "cell_type": "markdown",
      "source": [
        "Dividiremos los datos en un conjunto train para poder entrenar y ajustar hiper-parámetros, y un conjunto de test para evaluar.\n",
        "\n",
        "Cabe destacar, que para prblemas de clasificacion desbalanceados, hay que usar particiones estratificadas y médidas adecuadas. También es conveniente que los métodos de construcccion de modelos traten el desbalanceo usando el parametro class_weight = \"balanced\"."
      ],
      "metadata": {
        "id": "gxQHK2nInodu"
      }
    },
    {
      "cell_type": "code",
      "source": [
        "from sklearn.model_selection import train_test_split, StratifiedKFold\n",
        "\n",
        "X = datosdf.drop('Attrition', axis=1)\n",
        "y = datosdf['Attrition']\n",
        "\n",
        "X_train, X_test, y_train, y_test = train_test_split(X, y, stratify=y, test_size=0.16666666666666667)"
      ],
      "metadata": {
        "id": "UgsQ_HIMfDRx"
      },
      "execution_count": 14,
      "outputs": []
    },
    {
      "cell_type": "markdown",
      "source": [
        "##Preproceso"
      ],
      "metadata": {
        "id": "0gOP6YKVaMt2"
      }
    },
    {
      "cell_type": "markdown",
      "source": [
        "Vamos a realizar un preprocesado de los datos ya divididos para poder entrenar bien con los modelos que relizaremos en los próximos apartados.\n",
        "\n",
        "Para rellenar los valores faltantes, vamos a utilizar knn imputer en la columnas necesarias y a la hora de poder convertir variables categóricas en caracterísiticas numéricas binarias para que puedan ser utilizadas por los algoritmos de aprendizaje. Vamos a usar one hot encoder."
      ],
      "metadata": {
        "id": "4UNFN-h0pSus"
      }
    },
    {
      "cell_type": "code",
      "source": [
        "from sklearn import set_config\n",
        "from sklearn.compose import ColumnTransformer\n",
        "set_config(transform_output=\"pandas\")\n",
        "\n",
        "categorical_cols = ['BusinessTravel','Department','EducationField', 'Gender', 'JobRole', 'MaritalStatus', 'Over18']\n",
        "numerical_cols = list(datosdf.columns)\n",
        "for item in categorical_cols:\n",
        "    numerical_cols.remove(item)\n",
        "numerical_cols.remove('Attrition')\n",
        "# Procesamiento de valores numéricos.\n",
        "features_num = numerical_cols\n",
        "imputer_num = SimpleImputer(strategy='mean')\n",
        "pipeline_num = Pipeline(\n",
        "    steps=[\n",
        "        (\"imputer\", imputer_num)\n",
        "    ]\n",
        ")\n",
        "\n",
        "# Procesamiento de valores categóricos.\n",
        "features_cat = categorical_cols\n",
        "imputer_cat = SimpleImputer(strategy='most_frequent')\n",
        "pipeline_cat = Pipeline(\n",
        "    steps=[\n",
        "        (\"imputer\", imputer_cat),\n",
        "        (\"encoder\", OneHotEncoder(handle_unknown = 'ignore', sparse_output = False))\n",
        "    ]\n",
        ")\n",
        "\n",
        "# Pre-procesador \"global\".\n",
        "# Dependiendo del tipo de columna se aplica una transformación u otra.\n",
        "processor = ColumnTransformer(\n",
        "    transformers=[\n",
        "        (\"num\", pipeline_num, features_num),\n",
        "        (\"cat\", pipeline_cat, features_cat),\n",
        "    ]\n",
        ")\n",
        "\n",
        "\n",
        "X_train2 = processor.fit_transform(X_train, y_train)\n",
        "\n",
        "X_test2 = processor.transform(X_test)"
      ],
      "metadata": {
        "id": "Wv3MeLMsv-6i"
      },
      "execution_count": 15,
      "outputs": []
    },
    {
      "cell_type": "code",
      "source": [
        "print(X_train2.info())\n",
        "print(X_test2.info())"
      ],
      "metadata": {
        "id": "ZfGKtAnP7rRE",
        "outputId": "0564e0bb-ac2e-4437-c1d8-fdfb5540e621",
        "colab": {
          "base_uri": "https://localhost:8080/"
        }
      },
      "execution_count": 16,
      "outputs": [
        {
          "output_type": "stream",
          "name": "stdout",
          "text": [
            "<class 'pandas.core.frame.DataFrame'>\n",
            "Int64Index: 3675 entries, 2229 to 1650\n",
            "Data columns (total 50 columns):\n",
            " #   Column                                  Non-Null Count  Dtype  \n",
            "---  ------                                  --------------  -----  \n",
            " 0   num__hrs                                3675 non-null   float64\n",
            " 1   num__absences                           3675 non-null   float64\n",
            " 2   num__JobInvolvement                     3675 non-null   float64\n",
            " 3   num__PerformanceRating                  3675 non-null   float64\n",
            " 4   num__EnvironmentSatisfaction            3675 non-null   float64\n",
            " 5   num__JobSatisfaction                    3675 non-null   float64\n",
            " 6   num__WorkLifeBalance                    3675 non-null   float64\n",
            " 7   num__Age                                3675 non-null   float64\n",
            " 8   num__DistanceFromHome                   3675 non-null   float64\n",
            " 9   num__Education                          3675 non-null   float64\n",
            " 10  num__EmployeeCount                      3675 non-null   float64\n",
            " 11  num__EmployeeID                         3675 non-null   float64\n",
            " 12  num__JobLevel                           3675 non-null   float64\n",
            " 13  num__MonthlyIncome                      3675 non-null   float64\n",
            " 14  num__NumCompaniesWorked                 3675 non-null   float64\n",
            " 15  num__PercentSalaryHike                  3675 non-null   float64\n",
            " 16  num__StandardHours                      3675 non-null   float64\n",
            " 17  num__StockOptionLevel                   3675 non-null   float64\n",
            " 18  num__TotalWorkingYears                  3675 non-null   float64\n",
            " 19  num__TrainingTimesLastYear              3675 non-null   float64\n",
            " 20  num__YearsAtCompany                     3675 non-null   float64\n",
            " 21  num__YearsSinceLastPromotion            3675 non-null   float64\n",
            " 22  num__YearsWithCurrManager               3675 non-null   float64\n",
            " 23  cat__BusinessTravel_Non-Travel          3675 non-null   float64\n",
            " 24  cat__BusinessTravel_Travel_Frequently   3675 non-null   float64\n",
            " 25  cat__BusinessTravel_Travel_Rarely       3675 non-null   float64\n",
            " 26  cat__Department_Human Resources         3675 non-null   float64\n",
            " 27  cat__Department_Research & Development  3675 non-null   float64\n",
            " 28  cat__Department_Sales                   3675 non-null   float64\n",
            " 29  cat__EducationField_Human Resources     3675 non-null   float64\n",
            " 30  cat__EducationField_Life Sciences       3675 non-null   float64\n",
            " 31  cat__EducationField_Marketing           3675 non-null   float64\n",
            " 32  cat__EducationField_Medical             3675 non-null   float64\n",
            " 33  cat__EducationField_Other               3675 non-null   float64\n",
            " 34  cat__EducationField_Technical Degree    3675 non-null   float64\n",
            " 35  cat__Gender_Female                      3675 non-null   float64\n",
            " 36  cat__Gender_Male                        3675 non-null   float64\n",
            " 37  cat__JobRole_Healthcare Representative  3675 non-null   float64\n",
            " 38  cat__JobRole_Human Resources            3675 non-null   float64\n",
            " 39  cat__JobRole_Laboratory Technician      3675 non-null   float64\n",
            " 40  cat__JobRole_Manager                    3675 non-null   float64\n",
            " 41  cat__JobRole_Manufacturing Director     3675 non-null   float64\n",
            " 42  cat__JobRole_Research Director          3675 non-null   float64\n",
            " 43  cat__JobRole_Research Scientist         3675 non-null   float64\n",
            " 44  cat__JobRole_Sales Executive            3675 non-null   float64\n",
            " 45  cat__JobRole_Sales Representative       3675 non-null   float64\n",
            " 46  cat__MaritalStatus_Divorced             3675 non-null   float64\n",
            " 47  cat__MaritalStatus_Married              3675 non-null   float64\n",
            " 48  cat__MaritalStatus_Single               3675 non-null   float64\n",
            " 49  cat__Over18_Y                           3675 non-null   float64\n",
            "dtypes: float64(50)\n",
            "memory usage: 1.4 MB\n",
            "None\n",
            "<class 'pandas.core.frame.DataFrame'>\n",
            "Int64Index: 735 entries, 1614 to 939\n",
            "Data columns (total 50 columns):\n",
            " #   Column                                  Non-Null Count  Dtype  \n",
            "---  ------                                  --------------  -----  \n",
            " 0   num__hrs                                735 non-null    float64\n",
            " 1   num__absences                           735 non-null    float64\n",
            " 2   num__JobInvolvement                     735 non-null    float64\n",
            " 3   num__PerformanceRating                  735 non-null    float64\n",
            " 4   num__EnvironmentSatisfaction            735 non-null    float64\n",
            " 5   num__JobSatisfaction                    735 non-null    float64\n",
            " 6   num__WorkLifeBalance                    735 non-null    float64\n",
            " 7   num__Age                                735 non-null    float64\n",
            " 8   num__DistanceFromHome                   735 non-null    float64\n",
            " 9   num__Education                          735 non-null    float64\n",
            " 10  num__EmployeeCount                      735 non-null    float64\n",
            " 11  num__EmployeeID                         735 non-null    float64\n",
            " 12  num__JobLevel                           735 non-null    float64\n",
            " 13  num__MonthlyIncome                      735 non-null    float64\n",
            " 14  num__NumCompaniesWorked                 735 non-null    float64\n",
            " 15  num__PercentSalaryHike                  735 non-null    float64\n",
            " 16  num__StandardHours                      735 non-null    float64\n",
            " 17  num__StockOptionLevel                   735 non-null    float64\n",
            " 18  num__TotalWorkingYears                  735 non-null    float64\n",
            " 19  num__TrainingTimesLastYear              735 non-null    float64\n",
            " 20  num__YearsAtCompany                     735 non-null    float64\n",
            " 21  num__YearsSinceLastPromotion            735 non-null    float64\n",
            " 22  num__YearsWithCurrManager               735 non-null    float64\n",
            " 23  cat__BusinessTravel_Non-Travel          735 non-null    float64\n",
            " 24  cat__BusinessTravel_Travel_Frequently   735 non-null    float64\n",
            " 25  cat__BusinessTravel_Travel_Rarely       735 non-null    float64\n",
            " 26  cat__Department_Human Resources         735 non-null    float64\n",
            " 27  cat__Department_Research & Development  735 non-null    float64\n",
            " 28  cat__Department_Sales                   735 non-null    float64\n",
            " 29  cat__EducationField_Human Resources     735 non-null    float64\n",
            " 30  cat__EducationField_Life Sciences       735 non-null    float64\n",
            " 31  cat__EducationField_Marketing           735 non-null    float64\n",
            " 32  cat__EducationField_Medical             735 non-null    float64\n",
            " 33  cat__EducationField_Other               735 non-null    float64\n",
            " 34  cat__EducationField_Technical Degree    735 non-null    float64\n",
            " 35  cat__Gender_Female                      735 non-null    float64\n",
            " 36  cat__Gender_Male                        735 non-null    float64\n",
            " 37  cat__JobRole_Healthcare Representative  735 non-null    float64\n",
            " 38  cat__JobRole_Human Resources            735 non-null    float64\n",
            " 39  cat__JobRole_Laboratory Technician      735 non-null    float64\n",
            " 40  cat__JobRole_Manager                    735 non-null    float64\n",
            " 41  cat__JobRole_Manufacturing Director     735 non-null    float64\n",
            " 42  cat__JobRole_Research Director          735 non-null    float64\n",
            " 43  cat__JobRole_Research Scientist         735 non-null    float64\n",
            " 44  cat__JobRole_Sales Executive            735 non-null    float64\n",
            " 45  cat__JobRole_Sales Representative       735 non-null    float64\n",
            " 46  cat__MaritalStatus_Divorced             735 non-null    float64\n",
            " 47  cat__MaritalStatus_Married              735 non-null    float64\n",
            " 48  cat__MaritalStatus_Single               735 non-null    float64\n",
            " 49  cat__Over18_Y                           735 non-null    float64\n",
            "dtypes: float64(50)\n",
            "memory usage: 292.9 KB\n",
            "None\n"
          ]
        }
      ]
    },
    {
      "cell_type": "markdown",
      "source": [
        "#Construccion de modelos"
      ],
      "metadata": {
        "id": "-TJaZoteMr_G"
      }
    },
    {
      "cell_type": "markdown",
      "source": [
        "##Logistic regressor"
      ],
      "metadata": {
        "id": "Che0D1Kv235M"
      }
    },
    {
      "cell_type": "markdown",
      "source": [],
      "metadata": {
        "id": "ZW97PPCA27tz"
      }
    },
    {
      "cell_type": "code",
      "source": [
        "log_regressor = make_pipeline(StandardScaler(), LogisticRegression(class_weight='balanced'))\n",
        "\n",
        "np.random.seed(27)\n",
        "\n",
        "start_time = time.time()\n",
        "\n",
        "log_regressor.fit(X_train2, y_train)\n",
        "\n",
        "end_time = time.time()\n",
        "\n",
        "y_pred_train = log_regressor.predict(X_train2)\n",
        "y_pred_test = log_regressor.predict(X_test2)\n",
        "\n",
        "total_time = end_time-start_time\n",
        "\n",
        "print(f'execution time = {total_time}')\n",
        "print(f'balanced accuracy of default hyperparameters:{balanced_accuracy_score(y_test, y_pred_test)}')\n",
        "print(f'F1 score on default hyperparameters: {f1_score(y_test, y_pred_test, pos_label = \"Yes\")}')\n",
        "print(f'Confusion Matrix on default hyperparameters (train): {confusion_matrix(y_train, y_pred_train)}')\n",
        "print(f'Confusion Matrix on default hyperparameters (test): {confusion_matrix(y_test, y_pred_test)}')"
      ],
      "metadata": {
        "id": "9w7xakAqrPSu",
        "outputId": "9c849e27-e495-46e2-ac44-5f830090defe",
        "colab": {
          "base_uri": "https://localhost:8080/"
        }
      },
      "execution_count": 49,
      "outputs": [
        {
          "output_type": "stream",
          "name": "stdout",
          "text": [
            "execution time = 0.06664347648620605\n",
            "balanced accuracy of default hyperparameters:0.7485676088617266\n",
            "F1 score on default hyperparameters: 0.4829396325459317\n",
            "Confusion Matrix on default hyperparameters (train): [[2205  878]\n",
            " [ 167  425]]\n",
            "Confusion Matrix on default hyperparameters (test): [[446 170]\n",
            " [ 27  92]]\n"
          ]
        }
      ]
    },
    {
      "cell_type": "markdown",
      "source": [
        "#Boosting"
      ],
      "metadata": {
        "id": "wWiznbGo0lBg"
      }
    },
    {
      "cell_type": "markdown",
      "source": [
        "##Ada boosting"
      ],
      "metadata": {
        "id": "qkOh82Yl1NSZ"
      }
    },
    {
      "cell_type": "markdown",
      "source": [
        "El primer método de boosting en el que vamos a probar el ajuste de hiperparametros es AdaBoosting, diferenciando entre f1 score y balanced accuraccy"
      ],
      "metadata": {
        "id": "2U1e8XCS1Snj"
      }
    },
    {
      "cell_type": "code",
      "source": [
        "adaBoost = make_pipeline(StandardScaler(), AdaBoostClassifier(base_estimator = DecisionTreeClassifier(), random_state = 27))\n",
        "\n",
        "param_grid = {\"adaboostclassifier__base_estimator__max_depth\":[5,7],#CAMBIAR\n",
        "              \"adaboostclassifier__base_estimator__min_samples_split\":[7,9],#CAMBIAR\n",
        "              \"adaboostclassifier__learning_rate\":[0.1,1],#CAMBIAR\n",
        "              \"adaboostclassifier__n_estimators\":[250, 300]}#CAMBIAR\n",
        "\n",
        "stratFold = StratifiedKFold(n_splits = 3, shuffle = True, random_state=27)\n",
        "\n",
        "scoring = make_scorer(balanced_accuracy_score)\n",
        "\n",
        "clasification = GridSearchCV(adaBoost, \n",
        "                             param_grid, \n",
        "                             scoring = scoring, \n",
        "                             cv = stratFold, \n",
        "                             n_jobs = -1, \n",
        "                             verbose = 1)\n",
        "\n",
        "np.random.seed(27)\n",
        "\n",
        "start_time = time.time()\n",
        "\n",
        "clasification.fit(X_train2, y_train)\n",
        "\n",
        "end_time = time.time()\n",
        "\n",
        "\n",
        "best_model = clasification.best_estimator_\n",
        "y_pred = best_model.predict(X_train2)\n",
        "\n",
        "print(f'execution time = {total_time}')\n",
        "print(f'balanced accuracy of ada: {clasification.best_score_}')\n",
        "print(f'Confusion Matrix of acaboosting (train): {confusion_matrix(y_train, y_pred)}')"
      ],
      "metadata": {
        "id": "1YFODYzu0klC",
        "outputId": "86bbcef4-df70-4b08-c54a-d0598ac25482",
        "colab": {
          "base_uri": "https://localhost:8080/"
        }
      },
      "execution_count": 50,
      "outputs": [
        {
          "output_type": "stream",
          "name": "stdout",
          "text": [
            "Fitting 3 folds for each of 16 candidates, totalling 48 fits\n"
          ]
        },
        {
          "output_type": "stream",
          "name": "stderr",
          "text": [
            "/usr/local/lib/python3.10/dist-packages/sklearn/ensemble/_base.py:166: FutureWarning: `base_estimator` was renamed to `estimator` in version 1.2 and will be removed in 1.4.\n",
            "  warnings.warn(\n"
          ]
        },
        {
          "output_type": "stream",
          "name": "stdout",
          "text": [
            "execution time = 0.06664347648620605\n",
            "balanced accuracy of ada: 0.7298317644429382\n",
            "Confusion Matrix of acaboosting (train): [[3083    0]\n",
            " [   0  592]]\n"
          ]
        }
      ]
    },
    {
      "cell_type": "markdown",
      "source": [
        "mejor  modelo y parametros #CAMBIAR"
      ],
      "metadata": {
        "id": "TpjtQyfbiHxi"
      }
    },
    {
      "cell_type": "code",
      "source": [
        "best_model = clasification.best_estimator_\n",
        "best_parameters = clasification.best_params_\n",
        "\n",
        "print(f\"the best parameters are: {best_parameters}\")\n",
        "\n",
        "y_pred = best_model.predict(X_test2)\n",
        "\n",
        "print(f'balanced accuracy of test {balanced_accuracy_score(y_test, y_pred)}\\n')\n",
        "print(f'Confusion Matrix of acaboosting (test): {confusion_matrix(y_test, y_pred)}\\n')"
      ],
      "metadata": {
        "id": "WcdcPgZXiJlN",
        "colab": {
          "base_uri": "https://localhost:8080/"
        },
        "outputId": "a5b5b293-13bd-4dab-9ba4-c40d68bdc2e2"
      },
      "execution_count": 51,
      "outputs": [
        {
          "output_type": "stream",
          "name": "stdout",
          "text": [
            "the best parameters are: {'adaboostclassifier__base_estimator__max_depth': 5, 'adaboostclassifier__base_estimator__min_samples_split': 7, 'adaboostclassifier__learning_rate': 0.1, 'adaboostclassifier__n_estimators': 250}\n",
            "balanced accuracy of test 0.8094442322383499\n",
            "\n",
            "Confusion Matrix of acaboosting (test): [[609   7]\n",
            " [ 44  75]]\n",
            "\n"
          ]
        }
      ]
    },
    {
      "cell_type": "code",
      "source": [
        "adaBoost = make_pipeline(StandardScaler(), AdaBoostClassifier(base_estimator = DecisionTreeClassifier(), random_state = 27))\n",
        "\n",
        "param_grid = {\"adaboostclassifier__base_estimator__max_depth\":[2, 3, 4],  #CAMBIAR\n",
        "              \"adaboostclassifier__base_estimator__min_samples_split\":[2, 3, 4],#CAMBIAR\n",
        "              \"adaboostclassifier__learning_rate\":[0.0001,0.001, 0.01],#CAMBIAR\n",
        "              \"adaboostclassifier__n_estimators\":[5, 10, 15]}#CAMBIAR\n",
        "\n",
        "stratFold = StratifiedKFold(n_splits = 3, shuffle = True, random_state=27)\n",
        "\n",
        "scoring = make_scorer(f1_score, average = \"weighted\")\n",
        "\n",
        "clasification = GridSearchCV(adaBoost, \n",
        "                             param_grid, \n",
        "                             scoring = scoring, \n",
        "                             cv = stratFold, \n",
        "                             n_jobs = -1, \n",
        "                             verbose = 1)\n",
        "\n",
        "np.random.seed(27)\n",
        "\n",
        "start_time = time.time()\n",
        "\n",
        "clasification.fit(X_train2, y_train)\n",
        "\n",
        "end_time = time.time()\n",
        "\n",
        "\n",
        "best_model = clasification.best_estimator_\n",
        "y_pred = best_model.predict(X_train2)\n",
        "\n",
        "total_time = end_time - start_time\n",
        "print(f'execution time = {total_time}\\n')\n",
        "print(f'balanced accuracy of ada: {clasification.best_score_}\\n')\n",
        "print(f'Confusion Matrix of acaboosting (train): {confusion_matrix(y_train, y_pred)}')"
      ],
      "metadata": {
        "id": "U3Ib3N3vjA87",
        "colab": {
          "base_uri": "https://localhost:8080/"
        },
        "outputId": "e3bfb244-9a87-4d7f-9137-80840e697af1"
      },
      "execution_count": 52,
      "outputs": [
        {
          "output_type": "stream",
          "name": "stdout",
          "text": [
            "Fitting 3 folds for each of 81 candidates, totalling 243 fits\n",
            "execution time = 33.60704231262207\n",
            "\n",
            "balanced accuracy of ada: 0.8107716730638633\n",
            "\n",
            "Confusion Matrix of acaboosting (train): [[3060   23]\n",
            " [ 498   94]]\n"
          ]
        },
        {
          "output_type": "stream",
          "name": "stderr",
          "text": [
            "/usr/local/lib/python3.10/dist-packages/sklearn/ensemble/_base.py:166: FutureWarning: `base_estimator` was renamed to `estimator` in version 1.2 and will be removed in 1.4.\n",
            "  warnings.warn(\n"
          ]
        }
      ]
    },
    {
      "cell_type": "markdown",
      "source": [
        "IGUAL #CAMBIAR"
      ],
      "metadata": {
        "id": "j6hK3AJIjsrZ"
      }
    },
    {
      "cell_type": "code",
      "source": [
        "best_model = clasification.best_estimator_\n",
        "best_parameters = clasification.best_params_\n",
        "\n",
        "print(f\"the best parameters are: {best_parameters}\")\n",
        "\n",
        "y_pred = best_model.predict(X_test2)\n",
        "f1 = f1_score(y_test, y_pred, pos_label ='Yes', average = \"weighted\")\n",
        "print(f'F1 score of test {f1}\\n')\n",
        "print(f'Confusion Matrix of acaboosting for f1 score (test): {confusion_matrix(y_test, y_pred)}')"
      ],
      "metadata": {
        "id": "HhCLc3NKjx4K",
        "colab": {
          "base_uri": "https://localhost:8080/"
        },
        "outputId": "60716842-fd5e-42c1-d884-e2ca669e25d0"
      },
      "execution_count": 53,
      "outputs": [
        {
          "output_type": "stream",
          "name": "stdout",
          "text": [
            "the best parameters are: {'adaboostclassifier__base_estimator__max_depth': 4, 'adaboostclassifier__base_estimator__min_samples_split': 2, 'adaboostclassifier__learning_rate': 0.01, 'adaboostclassifier__n_estimators': 5}\n",
            "F1 score of test 0.7864597578135837\n",
            "\n",
            "Confusion Matrix of acaboosting for f1 score (test): [[606  10]\n",
            " [109  10]]\n"
          ]
        },
        {
          "output_type": "stream",
          "name": "stderr",
          "text": [
            "/usr/local/lib/python3.10/dist-packages/sklearn/metrics/_classification.py:1396: UserWarning: Note that pos_label (set to 'Yes') is ignored when average != 'binary' (got 'weighted'). You may use labels=[pos_label] to specify a single positive class.\n",
            "  warnings.warn(\n"
          ]
        }
      ]
    },
    {
      "cell_type": "markdown",
      "source": [
        "##GradientBoosting"
      ],
      "metadata": {
        "id": "-tQlep6kkU7H"
      }
    },
    {
      "cell_type": "markdown",
      "source": [],
      "metadata": {
        "id": "KjeYo1k_kXn6"
      }
    },
    {
      "cell_type": "code",
      "source": [
        "gradientBoost =  make_pipeline(StandardScaler(), GradientBoostingClassifier(random_state = 27))\n",
        "\n",
        "param_grid = {\"gradientboostingclassifier__learning_rate\":[0.1, 1],  #CAMBIAR\n",
        "              \"gradientboostingclassifier__max_depth\":[5, 7],#CAMBIAR\n",
        "              \"gradientboostingclassifier__min_samples_split\":[7, 9],#CAMBIAR\n",
        "              \"gradientboostingclassifier__n_estimators\":[250, 300]}#CAMBIAR\n",
        "\n",
        "stratFold = StratifiedKFold(n_splits = 3, shuffle = True, random_state=27)\n",
        "\n",
        "scoring = make_scorer(balanced_accuracy_score)\n",
        "\n",
        "clasification = GridSearchCV(gradientBoost, \n",
        "                             param_grid, \n",
        "                             scoring = scoring, \n",
        "                             cv = stratFold, \n",
        "                             n_jobs = -1, \n",
        "                             verbose = 1)\n",
        "\n",
        "np.random.seed(27)\n",
        "\n",
        "start_time = time.time()\n",
        "\n",
        "clasification.fit(X_train2, y_train)\n",
        "\n",
        "end_time = time.time()\n",
        "\n",
        "\n",
        "best_model = clasification.best_estimator_\n",
        "y_pred = best_model.predict(X_train2)\n",
        "\n",
        "total_time = end_time - start_time\n",
        "print(f'execution time = {total_time}\\n')\n",
        "print(f'balanced accuracy of ada: {clasification.best_score_}\\n')\n",
        "print(f'Confusion Matrix of gradientBoost (train): {confusion_matrix(y_train, y_pred)}')"
      ],
      "metadata": {
        "id": "CCi0oTgrkXrS",
        "outputId": "d8ee7025-11fb-43bb-cdd3-6d89b5b5be24",
        "colab": {
          "base_uri": "https://localhost:8080/"
        }
      },
      "execution_count": 54,
      "outputs": [
        {
          "output_type": "stream",
          "name": "stdout",
          "text": [
            "Fitting 3 folds for each of 16 candidates, totalling 48 fits\n",
            "execution time = 146.76625871658325\n",
            "\n",
            "balanced accuracy of ada: 0.7657379276009314\n",
            "\n",
            "Confusion Matrix of gradientBoost (train): [[3083    0]\n",
            " [   0  592]]\n"
          ]
        }
      ]
    },
    {
      "cell_type": "code",
      "source": [
        "best_model = clasification.best_estimator_\n",
        "best_parameters = clasification.best_params_\n",
        "\n",
        "print(f\"the best parameters are: {best_parameters}\")\n",
        "\n",
        "y_pred = best_model.predict(X_test2)\n",
        "\n",
        "print(f'balanced accuracy of test {balanced_accuracy_score(y_test, y_pred)}\\n')\n",
        "print(f'Confusion Matrix of gradientBoosting (test): {confusion_matrix(y_test, y_pred)}\\n')"
      ],
      "metadata": {
        "id": "ia_hx1Y_lksB",
        "colab": {
          "base_uri": "https://localhost:8080/"
        },
        "outputId": "2d47c77e-6959-47a7-c7f9-2fb13f903eff"
      },
      "execution_count": 55,
      "outputs": [
        {
          "output_type": "stream",
          "name": "stdout",
          "text": [
            "the best parameters are: {'gradientboostingclassifier__learning_rate': 1, 'gradientboostingclassifier__max_depth': 5, 'gradientboostingclassifier__min_samples_split': 9, 'gradientboostingclassifier__n_estimators': 300}\n",
            "balanced accuracy of test 0.8624427043544691\n",
            "\n",
            "Confusion Matrix of gradientBoosting (test): [[607   9]\n",
            " [ 31  88]]\n",
            "\n"
          ]
        }
      ]
    },
    {
      "cell_type": "code",
      "source": [
        "gradientBoost =  make_pipeline(StandardScaler(), GradientBoostingClassifier(random_state = 27))\n",
        "\n",
        "param_grid = {\"gradientboostingclassifier__learning_rate\":[0.0001,0.001, 0.01],  #CAMBIAR\n",
        "              \"gradientboostingclassifier__max_depth\":[2, 3, 4],#CAMBIAR\n",
        "              \"gradientboostingclassifier__min_samples_split\":[2, 3, 4],#CAMBIAR\n",
        "              \"gradientboostingclassifier__n_estimators\":[5, 10, 15]}#CAMBIAR\n",
        "\n",
        "stratFold = StratifiedKFold(n_splits = 3, shuffle = True, random_state=27)\n",
        "\n",
        "scoring = make_scorer(f1_score, average = \"weighted\")\n",
        "\n",
        "clasification = GridSearchCV(gradientBoost, \n",
        "                             param_grid, \n",
        "                             scoring = scoring, \n",
        "                             cv = stratFold, \n",
        "                             n_jobs = -1, \n",
        "                             verbose = 1)\n",
        "\n",
        "np.random.seed(27)\n",
        "\n",
        "start_time = time.time()\n",
        "\n",
        "clasification.fit(X_train2, y_train)\n",
        "\n",
        "end_time = time.time()\n",
        "\n",
        "\n",
        "best_model = clasification.best_estimator_\n",
        "y_pred = best_model.predict(X_train2)\n",
        "\n",
        "total_time = end_time - start_time\n",
        "print(f'execution time = {total_time}\\n')\n",
        "print(f'f1 score of gradientBoost: {clasification.best_score_}\\n')\n",
        "print(f'Confusion Matrix of gradientBoost for f1 score (train): {confusion_matrix(y_train, y_pred)}')"
      ],
      "metadata": {
        "id": "6qMfiYGDl3iU",
        "colab": {
          "base_uri": "https://localhost:8080/"
        },
        "outputId": "97eb2bf7-f40d-4eb8-c531-5eb8d3f78ad7"
      },
      "execution_count": 56,
      "outputs": [
        {
          "output_type": "stream",
          "name": "stdout",
          "text": [
            "Fitting 3 folds for each of 81 candidates, totalling 243 fits\n",
            "execution time = 22.59752345085144\n",
            "\n",
            "f1 score of gradientBoost: 0.7654230585085801\n",
            "\n",
            "Confusion Matrix of gradientBoost for f1 score (train): [[3083    0]\n",
            " [ 592    0]]\n"
          ]
        }
      ]
    },
    {
      "cell_type": "code",
      "source": [
        "best_model = clasification.best_estimator_\n",
        "best_parameters = clasification.best_params_\n",
        "\n",
        "print(f\"the best parameters are: {best_parameters}\")\n",
        "\n",
        "y_pred = best_model.predict(X_test2)\n",
        "\n",
        "f1 = f1_score(y_test, y_pred, pos_label ='Yes', average = \"weighted\")\n",
        "print(f'F1 score of test {f1}\\n')\n",
        "print(f'Confusion Matrix of acaboosting for f1 score (test): {confusion_matrix(y_test, y_pred)}')"
      ],
      "metadata": {
        "id": "HPi1E9SjmT-D",
        "colab": {
          "base_uri": "https://localhost:8080/"
        },
        "outputId": "56fa1b35-3b84-4240-c19b-8c3ece0cf5bf"
      },
      "execution_count": 57,
      "outputs": [
        {
          "output_type": "stream",
          "name": "stdout",
          "text": [
            "the best parameters are: {'gradientboostingclassifier__learning_rate': 0.0001, 'gradientboostingclassifier__max_depth': 2, 'gradientboostingclassifier__min_samples_split': 2, 'gradientboostingclassifier__n_estimators': 5}\n",
            "F1 score of test 0.7642733777448802\n",
            "\n",
            "Confusion Matrix of acaboosting for f1 score (test): [[616   0]\n",
            " [119   0]]\n"
          ]
        },
        {
          "output_type": "stream",
          "name": "stderr",
          "text": [
            "/usr/local/lib/python3.10/dist-packages/sklearn/metrics/_classification.py:1396: UserWarning: Note that pos_label (set to 'Yes') is ignored when average != 'binary' (got 'weighted'). You may use labels=[pos_label] to specify a single positive class.\n",
            "  warnings.warn(\n"
          ]
        }
      ]
    },
    {
      "cell_type": "markdown",
      "source": [
        "##XGBoost"
      ],
      "metadata": {
        "id": "ICsWJSvNmlhR"
      }
    },
    {
      "cell_type": "code",
      "source": [
        "XGBoost =  make_pipeline(StandardScaler(), xgb.XGBClassifier(random_state = 27))\n",
        "\n",
        "param_grid = {\"xgbclassifier__learning_rate\":[0.1, 1],  #CAMBIAR\n",
        "              \"xgbclassifier__max_depth\":[6, 7],#CAMBIAR\n",
        "              \"xgbclassifier__min_child_weight\":[1, 2],#CAMBIAR\n",
        "              \"xgbclassifier__n_estimators\":[160, 180],#CAMBIAR\n",
        "              \"xgbclassifier__scale_pos_weight\":[5, 10, 15]}#CAMBIAR\n",
        "\n",
        "stratFold = StratifiedKFold(n_splits = 3, shuffle = True, random_state=27)\n",
        "\n",
        "scoring = make_scorer(balanced_accuracy_score)\n",
        "\n",
        "clasification = GridSearchCV(XGBoost, \n",
        "                             param_grid, \n",
        "                             scoring = scoring, \n",
        "                             cv = stratFold, \n",
        "                             n_jobs = -1, \n",
        "                             verbose = 1)\n",
        "\n",
        "np.random.seed(27)\n",
        "y_train2 = y_train.map({'No':0, 'Yes':1})\n",
        "\n",
        "start_time = time.time()\n",
        "\n",
        "clasification.fit(X_train2, y_train2)\n",
        "\n",
        "end_time = time.time()\n",
        "\n",
        "\n",
        "best_model = clasification.best_estimator_\n",
        "y_pred = best_model.predict(X_train2)\n",
        "\n",
        "total_time = end_time - start_time\n",
        "print(f'execution time = {total_time}\\n')\n",
        "print(f' balanced accuracy of XGBoost: {clasification.best_score_}\\n')\n",
        "print(f'Confusion Matrix of XGBoost (train): {confusion_matrix(y_train2, y_pred)}')\n",
        "y_train2 = y_train"
      ],
      "metadata": {
        "id": "RtDlWSAjmpg5",
        "colab": {
          "base_uri": "https://localhost:8080/"
        },
        "outputId": "b2223c59-7ac4-4603-b487-93d3d0c4890d"
      },
      "execution_count": 58,
      "outputs": [
        {
          "output_type": "stream",
          "name": "stdout",
          "text": [
            "Fitting 3 folds for each of 48 candidates, totalling 144 fits\n",
            "execution time = 185.08043813705444\n",
            "\n",
            " balanced accuracy of XGBoost: 0.8058105010788981\n",
            "\n",
            "Confusion Matrix of XGBoost (train): [[3063   20]\n",
            " [   0  592]]\n"
          ]
        }
      ]
    },
    {
      "cell_type": "code",
      "source": [
        "best_model = clasification.best_estimator_\n",
        "best_parameters = clasification.best_params_\n",
        "\n",
        "print(f\"the best parameters are: {best_parameters}\")\n",
        "\n",
        "y_test2 = y_test.map({'No':0, 'Yes':1})\n",
        "\n",
        "y_pred = best_model.predict(X_test2)\n",
        "\n",
        "balancedAcc = balanced_accuracy_score(y_test2, y_pred)\n",
        "print(f'balanced accuracy of test {balancedAcc}\\n')\n",
        "print(f'Confusion Matrix of XGBoost (test): {confusion_matrix(y_test2, y_pred)}\\n')\n",
        "y_test2 = y_test"
      ],
      "metadata": {
        "id": "e5zRQxQXo9Mu",
        "colab": {
          "base_uri": "https://localhost:8080/"
        },
        "outputId": "3a808c79-e555-4533-e32f-a3cbd5d57d44"
      },
      "execution_count": 59,
      "outputs": [
        {
          "output_type": "stream",
          "name": "stdout",
          "text": [
            "the best parameters are: {'xgbclassifier__learning_rate': 0.1, 'xgbclassifier__max_depth': 6, 'xgbclassifier__min_child_weight': 1, 'xgbclassifier__n_estimators': 160, 'xgbclassifier__scale_pos_weight': 15}\n",
            "balanced accuracy of test 0.8933823529411764\n",
            "\n",
            "Confusion Matrix of XGBoost (test): [[583  33]\n",
            " [ 19 100]]\n",
            "\n"
          ]
        }
      ]
    },
    {
      "cell_type": "code",
      "source": [
        "XGBoost =  make_pipeline(StandardScaler(), xgb.XGBClassifier(random_state = 27))\n",
        "\n",
        "param_grid = {\"xgbclassifier__learning_rate\":[0.1, 1],  #CAMBIAR\n",
        "              \"xgbclassifier__max_depth\":[6, 7],#CAMBIAR\n",
        "              \"xgbclassifier__min_child_weight\":[1, 2],#CAMBIAR\n",
        "              \"xgbclassifier__n_estimators\":[160, 180],#CAMBIAR\n",
        "              \"xgbclassifier__scale_pos_weight\":[5, 10, 15]}#CAMBIAR\n",
        "\n",
        "stratFold = StratifiedKFold(n_splits = 3, shuffle = True, random_state=27)\n",
        "\n",
        "scoring = make_scorer(f1_score)\n",
        "\n",
        "clasification = GridSearchCV(XGBoost, \n",
        "                             param_grid, \n",
        "                             scoring = scoring, \n",
        "                             cv = stratFold, \n",
        "                             n_jobs = -1, \n",
        "                             verbose = 1)\n",
        "\n",
        "np.random.seed(27)\n",
        "y_train2 = y_train.map({'No':0, 'Yes':1})\n",
        "\n",
        "start_time = time.time()\n",
        "\n",
        "clasification.fit(X_train2, y_train2)\n",
        "\n",
        "end_time = time.time()\n",
        "\n",
        "\n",
        "best_model = clasification.best_estimator_\n",
        "y_pred = best_model.predict(X_train2)\n",
        "\n",
        "total_time = end_time - start_time\n",
        "print(f'execution time = {total_time}\\n')\n",
        "print(f' f1 score of XGBoost: {clasification.best_score_}\\n')\n",
        "print(f'Confusion Matrix of XGBoost for f1 score (train): {confusion_matrix(y_train2, y_pred)}')\n",
        "y_train2 = y_train"
      ],
      "metadata": {
        "id": "F-8CYi_Lrttj",
        "colab": {
          "base_uri": "https://localhost:8080/"
        },
        "outputId": "4a5c8aaa-c282-4b0f-955b-0645ffe32549"
      },
      "execution_count": 60,
      "outputs": [
        {
          "output_type": "stream",
          "name": "stdout",
          "text": [
            "Fitting 3 folds for each of 48 candidates, totalling 144 fits\n",
            "execution time = 184.2087116241455\n",
            "\n",
            " f1 score of XGBoost: 0.6847199020817016\n",
            "\n",
            "Confusion Matrix of XGBoost for f1 score (train): [[3083    0]\n",
            " [   0  592]]\n"
          ]
        }
      ]
    },
    {
      "cell_type": "code",
      "source": [
        "best_model = clasification.best_estimator_\n",
        "best_parameters = clasification.best_params_\n",
        "\n",
        "print(f\"the best parameters are: {best_parameters}\")\n",
        "y_test2 = y_test.map({'No':0, 'Yes':1})\n",
        "y_pred = best_model.predict(X_test2)\n",
        "\n",
        "f1 = f1_score(y_test2, y_pred)\n",
        "print(f'F1 score of test {f1}\\n')\n",
        "print(f'Confusion Matrix of XGBoost for f1 score (test): {confusion_matrix(y_test2, y_pred)}')\n",
        "y_test2 = y_test"
      ],
      "metadata": {
        "id": "U6Wmr8mAsGZl",
        "outputId": "47687f59-2624-423f-e9c4-3a81e0485d49",
        "colab": {
          "base_uri": "https://localhost:8080/"
        }
      },
      "execution_count": 61,
      "outputs": [
        {
          "output_type": "stream",
          "name": "stdout",
          "text": [
            "the best parameters are: {'xgbclassifier__learning_rate': 0.1, 'xgbclassifier__max_depth': 7, 'xgbclassifier__min_child_weight': 2, 'xgbclassifier__n_estimators': 180, 'xgbclassifier__scale_pos_weight': 15}\n",
            "F1 score of test 0.8\n",
            "\n",
            "Confusion Matrix of XGBoost for f1 score (test): [[591  25]\n",
            " [ 23  96]]\n"
          ]
        }
      ]
    },
    {
      "cell_type": "markdown",
      "source": [
        "#Seleccion de atributos"
      ],
      "metadata": {
        "id": "mz7nipZrr5pR"
      }
    },
    {
      "cell_type": "markdown",
      "source": [
        "selectkbest mutual balanced"
      ],
      "metadata": {
        "id": "sKEIsqZ1v7Dn"
      }
    },
    {
      "cell_type": "code",
      "source": [
        "XGBoost =  make_pipeline(StandardScaler(), SelectKBest(mutual_info_classif), xgb.XGBClassifier(random_state = 27))\n",
        "\n",
        "param_grid = {\"xgbclassifier__learning_rate\":[0.1, 1],  #CAMBIAR\n",
        "              \"xgbclassifier__max_depth\":[6, 7],#CAMBIAR\n",
        "              \"xgbclassifier__min_child_weight\":[1, 2],#CAMBIAR\n",
        "              \"xgbclassifier__n_estimators\":[160, 180],#CAMBIAR\n",
        "              \"selectkbest__k\":[25, 30],#CAMBIAR\n",
        "              \"xgbclassifier__scale_pos_weight\":[5, 10, 15]}#CAMBIAR\n",
        "\n",
        "stratFold = StratifiedKFold(n_splits = 3, shuffle = True, random_state=27)\n",
        "\n",
        "scoring = make_scorer(balanced_accuracy_score)\n",
        "\n",
        "clasification = GridSearchCV(XGBoost, \n",
        "                             param_grid, \n",
        "                             scoring = scoring, \n",
        "                             cv = stratFold, \n",
        "                             n_jobs = -1, \n",
        "                             verbose = 1)\n",
        "\n",
        "np.random.seed(27)\n",
        "y_train2 = y_train.map({'No':0, 'Yes':1})\n",
        "\n",
        "start_time = time.time()\n",
        "\n",
        "clasification.fit(X_train2, y_train2)\n",
        "\n",
        "end_time = time.time()\n",
        "\n",
        "\n",
        "best_model = clasification.best_estimator_\n",
        "y_pred = best_model.predict(X_train2)\n",
        "\n",
        "total_time = end_time - start_time\n",
        "print(f'execution time = {total_time}\\n')\n",
        "print(f' balanced accuracy of XGBoost: {clasification.best_score_}\\n')\n",
        "print(f'Confusion Matrix of XGBoost (train): {confusion_matrix(y_train2, y_pred)}')\n",
        "y_train2 = y_train"
      ],
      "metadata": {
        "colab": {
          "base_uri": "https://localhost:8080/"
        },
        "id": "aWEcxW3ir5xZ",
        "outputId": "6d1715d5-cc8e-44a2-9805-f4d5ea7211ba"
      },
      "execution_count": 18,
      "outputs": [
        {
          "output_type": "stream",
          "name": "stdout",
          "text": [
            "Fitting 3 folds for each of 96 candidates, totalling 288 fits\n",
            "execution time = 392.26824975013733\n",
            "\n",
            " balanced accuracy of XGBoost: 0.8090507759870654\n",
            "\n",
            "Confusion Matrix of XGBoost (train): [[3043   40]\n",
            " [   0  592]]\n"
          ]
        }
      ]
    },
    {
      "cell_type": "code",
      "source": [
        "best_model = clasification.best_estimator_\n",
        "best_parameters = clasification.best_params_\n",
        "\n",
        "print(f\"the best parameters are: {best_parameters}\")\n",
        "\n",
        "y_test2 = y_test.map({'No':0, 'Yes':1})\n",
        "\n",
        "y_pred = best_model.predict(X_test2)\n",
        "\n",
        "balancedAcc = balanced_accuracy_score(y_test2, y_pred)\n",
        "print(f'balanced accuracy of test {balancedAcc}\\n')\n",
        "print(f'Confusion Matrix of XGBoost (test): {confusion_matrix(y_test2, y_pred)}\\n')\n",
        "y_test2 = y_test"
      ],
      "metadata": {
        "colab": {
          "base_uri": "https://localhost:8080/"
        },
        "id": "iRBsA2ZxtA1q",
        "outputId": "a79b8abc-5e4e-497e-d7db-b85b50758659"
      },
      "execution_count": 19,
      "outputs": [
        {
          "output_type": "stream",
          "name": "stdout",
          "text": [
            "the best parameters are: {'selectkbest__k': 30, 'xgbclassifier__learning_rate': 0.1, 'xgbclassifier__max_depth': 6, 'xgbclassifier__min_child_weight': 1, 'xgbclassifier__n_estimators': 160, 'xgbclassifier__scale_pos_weight': 15}\n",
            "balanced accuracy of test 0.8627769289533995\n",
            "\n",
            "Confusion Matrix of XGBoost (test): [[566  50]\n",
            " [ 23  96]]\n",
            "\n"
          ]
        }
      ]
    },
    {
      "cell_type": "markdown",
      "source": [
        "selectkbest mutual f1"
      ],
      "metadata": {
        "id": "hmkFHQ4EwuaC"
      }
    },
    {
      "cell_type": "code",
      "source": [
        "XGBoost =  make_pipeline(StandardScaler(), SelectKBest(mutual_info_classif), xgb.XGBClassifier(random_state = 27))\n",
        "\n",
        "param_grid = {\"xgbclassifier__learning_rate\":[0.1, 1],  #CAMBIAR\n",
        "              \"xgbclassifier__max_depth\":[6, 7],#CAMBIAR\n",
        "              \"xgbclassifier__min_child_weight\":[1, 2],#CAMBIAR\n",
        "              \"xgbclassifier__n_estimators\":[160, 180],#CAMBIAR\n",
        "              \"selectkbest__k\":[25, 30],#CAMBIAR\n",
        "              \"xgbclassifier__scale_pos_weight\":[5, 10, 15]}#CAMBIAR\n",
        "\n",
        "stratFold = StratifiedKFold(n_splits = 3, shuffle = True, random_state=27)\n",
        "\n",
        "scoring = make_scorer(f1_score, average = \"weighted\")\n",
        "\n",
        "clasification = GridSearchCV(XGBoost, \n",
        "                             param_grid, \n",
        "                             scoring = scoring, \n",
        "                             cv = stratFold, \n",
        "                             n_jobs = -1, \n",
        "                             verbose = 1)\n",
        "\n",
        "np.random.seed(27)\n",
        "y_train2 = y_train.map({'No':0, 'Yes':1})\n",
        "\n",
        "start_time = time.time()\n",
        "\n",
        "clasification.fit(X_train2, y_train2)\n",
        "\n",
        "end_time = time.time()\n",
        "\n",
        "\n",
        "best_model = clasification.best_estimator_\n",
        "y_pred = best_model.predict(X_train2)\n",
        "\n",
        "total_time = end_time - start_time\n",
        "print(f'execution time = {total_time}\\n')\n",
        "print(f' balanced accuracy of XGBoost: {clasification.best_score_}\\n')\n",
        "print(f'Confusion Matrix of XGBoost (train): {confusion_matrix(y_train2, y_pred)}')\n",
        "y_train2 = y_train"
      ],
      "metadata": {
        "colab": {
          "base_uri": "https://localhost:8080/"
        },
        "id": "GW2BEJ8Owrm-",
        "outputId": "b6763a10-c26a-4d5b-b742-97827b0f7b1f"
      },
      "execution_count": 20,
      "outputs": [
        {
          "output_type": "stream",
          "name": "stdout",
          "text": [
            "Fitting 3 folds for each of 96 candidates, totalling 288 fits\n",
            "execution time = 389.142213344574\n",
            "\n",
            " balanced accuracy of XGBoost: 0.901274704147982\n",
            "\n",
            "Confusion Matrix of XGBoost (train): [[3082    1]\n",
            " [   0  592]]\n"
          ]
        }
      ]
    },
    {
      "cell_type": "code",
      "source": [
        "best_model = clasification.best_estimator_\n",
        "best_parameters = clasification.best_params_\n",
        "\n",
        "print(f\"the best parameters are: {best_parameters}\")\n",
        "\n",
        "y_test2 = y_test.map({'No':0, 'Yes':1})\n",
        "\n",
        "y_pred = best_model.predict(X_test2)\n",
        "\n",
        "f1 = f1_score(y_test2, y_pred, average = \"weighted\")\n",
        "print(f'F1 score of test {f1}\\n')\n",
        "print(f'Confusion Matrix of XGBoost (test): {confusion_matrix(y_test2, y_pred)}\\n')\n",
        "y_test2 = y_test"
      ],
      "metadata": {
        "colab": {
          "base_uri": "https://localhost:8080/"
        },
        "id": "c7yNG1q7wr-P",
        "outputId": "ef7cddb4-c597-4b4c-96ad-cf1e9d4ebeb7"
      },
      "execution_count": 21,
      "outputs": [
        {
          "output_type": "stream",
          "name": "stdout",
          "text": [
            "the best parameters are: {'selectkbest__k': 30, 'xgbclassifier__learning_rate': 0.1, 'xgbclassifier__max_depth': 7, 'xgbclassifier__min_child_weight': 1, 'xgbclassifier__n_estimators': 160, 'xgbclassifier__scale_pos_weight': 10}\n",
            "F1 score of test 0.9336669041276572\n",
            "\n",
            "Confusion Matrix of XGBoost (test): [[590  26]\n",
            " [ 23  96]]\n",
            "\n"
          ]
        }
      ]
    }
  ]
}