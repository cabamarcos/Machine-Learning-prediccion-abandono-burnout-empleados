{
  "nbformat": 4,
  "nbformat_minor": 0,
  "metadata": {
    "colab": {
      "provenance": [],
      "include_colab_link": true
    },
    "kernelspec": {
      "name": "python3",
      "display_name": "Python 3"
    },
    "language_info": {
      "name": "python"
    }
  },
  "cells": [
    {
      "cell_type": "markdown",
      "metadata": {
        "id": "view-in-github",
        "colab_type": "text"
      },
      "source": [
        "<a href=\"https://colab.research.google.com/github/cabamarcos/Grupo27_practica2/blob/main/Grupo27_practica2.ipynb\" target=\"_parent\"><img src=\"https://colab.research.google.com/assets/colab-badge.svg\" alt=\"Open In Colab\"/></a>"
      ]
    },
    {
      "cell_type": "markdown",
      "source": [
        "#1. Importación de librerías y datos"
      ],
      "metadata": {
        "id": "TYFyiH8a4RIl"
      }
    },
    {
      "cell_type": "markdown",
      "source": [
        "Hacemos los imports correspondientes\n",
        "\n"
      ],
      "metadata": {
        "id": "qwkgXjdQ4KNP"
      }
    },
    {
      "cell_type": "code",
      "execution_count": 1,
      "metadata": {
        "id": "4PkaR_3K2r0Q"
      },
      "outputs": [],
      "source": [
        "import pandas as pd\n",
        "import numpy as np\n",
        "import pickle"
      ]
    },
    {
      "cell_type": "code",
      "source": [
        "with open('attrition_available_27.pkl', 'rb') as archivo:\n",
        "    datos = pickle.load(archivo)\n",
        "\n",
        "print(datos)"
      ],
      "metadata": {
        "colab": {
          "base_uri": "https://localhost:8080/"
        },
        "id": "bKaTlZ5R4YZO",
        "outputId": "7ba7c960-85a3-4e1a-d667-532c55831150"
      },
      "execution_count": 2,
      "outputs": [
        {
          "output_type": "stream",
          "name": "stdout",
          "text": [
            "           hrs  absences  JobInvolvement  PerformanceRating  \\\n",
            "1     7.315971      13.0             2.0                4.0   \n",
            "6     6.450877      17.0             3.0                4.0   \n",
            "13    8.871421      14.0             2.0                3.0   \n",
            "28         NaN       6.0             2.0                3.0   \n",
            "30    9.662808      11.0             2.0                3.0   \n",
            "...        ...       ...             ...                ...   \n",
            "4405  8.316921       6.0             3.0                3.0   \n",
            "4406  5.897197       NaN             2.0                3.0   \n",
            "4407       NaN      18.0             3.0                4.0   \n",
            "4408  9.187612       NaN             2.0                3.0   \n",
            "4409  6.511790      17.0             4.0                3.0   \n",
            "\n",
            "      EnvironmentSatisfaction  JobSatisfaction  WorkLifeBalance   Age  \\\n",
            "1                         3.0              2.0              4.0  31.0   \n",
            "6                         1.0              3.0              1.0   NaN   \n",
            "13                        1.0              2.0              2.0   NaN   \n",
            "28                        4.0              3.0              1.0  44.0   \n",
            "30                        1.0              2.0              3.0  26.0   \n",
            "...                       ...              ...              ...   ...   \n",
            "4405                      4.0              1.0              3.0  42.0   \n",
            "4406                      4.0              4.0              3.0  29.0   \n",
            "4407                      1.0              3.0              3.0  25.0   \n",
            "4408                      4.0              1.0              NaN  42.0   \n",
            "4409                      NaN              3.0              NaN   NaN   \n",
            "\n",
            "     Attrition     BusinessTravel  ... NumCompaniesWorked  Over18  \\\n",
            "1          Yes  Travel_Frequently  ...                0.0       Y   \n",
            "6          Yes      Travel_Rarely  ...                2.0       Y   \n",
            "13         Yes         Non-Travel  ...                NaN       Y   \n",
            "28         Yes  Travel_Frequently  ...                NaN       Y   \n",
            "30         Yes                NaN  ...                2.0     NaN   \n",
            "...        ...                ...  ...                ...     ...   \n",
            "4405        No      Travel_Rarely  ...                NaN       Y   \n",
            "4406        No      Travel_Rarely  ...                2.0       Y   \n",
            "4407        No      Travel_Rarely  ...                0.0       Y   \n",
            "4408        No      Travel_Rarely  ...                0.0       Y   \n",
            "4409        No      Travel_Rarely  ...                NaN       Y   \n",
            "\n",
            "      PercentSalaryHike StandardHours  StockOptionLevel  TotalWorkingYears  \\\n",
            "1                  23.0             8               NaN                6.0   \n",
            "6                  20.0             8               1.0                5.0   \n",
            "13                 11.0             8               2.0               10.0   \n",
            "28                 14.0             8               1.0               19.0   \n",
            "30                 11.0             8               0.0                NaN   \n",
            "...                 ...           ...               ...                ...   \n",
            "4405               17.0             8               1.0               10.0   \n",
            "4406               15.0             8               0.0                NaN   \n",
            "4407                NaN             8               0.0                NaN   \n",
            "4408               14.0             8               NaN               10.0   \n",
            "4409               12.0             8               NaN                NaN   \n",
            "\n",
            "     TrainingTimesLastYear  YearsAtCompany YearsSinceLastPromotion  \\\n",
            "1                      NaN             NaN                       1   \n",
            "6                      2.0             0.0                       0   \n",
            "13                     4.0            10.0                       9   \n",
            "28                     2.0             1.0                       0   \n",
            "30                     5.0             3.0                       0   \n",
            "...                    ...             ...                     ...   \n",
            "4405                   5.0             NaN                       0   \n",
            "4406                   2.0             3.0                       0   \n",
            "4407                   4.0             NaN                       1   \n",
            "4408                   2.0             9.0                       7   \n",
            "4409                   6.0            21.0                       3   \n",
            "\n",
            "     YearsWithCurrManager  \n",
            "1                     4.0  \n",
            "6                     0.0  \n",
            "13                    9.0  \n",
            "28                    0.0  \n",
            "30                    2.0  \n",
            "...                   ...  \n",
            "4405                  2.0  \n",
            "4406                  NaN  \n",
            "4407                  NaN  \n",
            "4408                  8.0  \n",
            "4409                  9.0  \n",
            "\n",
            "[4410 rows x 31 columns]\n"
          ]
        }
      ]
    },
    {
      "cell_type": "markdown",
      "source": [
        "#2. EDA"
      ],
      "metadata": {
        "id": "dNKxYf7K5Ehw"
      }
    },
    {
      "cell_type": "markdown",
      "source": [
        "Convertimos los datos en un dataframe"
      ],
      "metadata": {
        "id": "Ik_zDh-65JZJ"
      }
    },
    {
      "cell_type": "code",
      "source": [
        "df = pd.DataFrame(datos)"
      ],
      "metadata": {
        "id": "uvu9Al8I5IAv"
      },
      "execution_count": 3,
      "outputs": []
    },
    {
      "cell_type": "markdown",
      "source": [
        "Sacamos el número de instancias y el número de atributos"
      ],
      "metadata": {
        "id": "woXlE6In6Dul"
      }
    },
    {
      "cell_type": "code",
      "source": [
        "print(\"Número de instancias:\", len(df))\n",
        "print(\"Número de atributos:\", len(df.columns))"
      ],
      "metadata": {
        "colab": {
          "base_uri": "https://localhost:8080/"
        },
        "id": "LfVMgmpN6D6-",
        "outputId": "bdff2662-2a60-4785-e463-5fbbb801ec61"
      },
      "execution_count": 4,
      "outputs": [
        {
          "output_type": "stream",
          "name": "stdout",
          "text": [
            "Número de instancias: 4410\n",
            "Número de atributos: 31\n"
          ]
        }
      ]
    },
    {
      "cell_type": "markdown",
      "source": [
        "Vemos el tipo de datos de las instacias"
      ],
      "metadata": {
        "id": "iC46F9QY6Caf"
      }
    },
    {
      "cell_type": "code",
      "source": [
        "print(\"Tipos de datos:\")\n",
        "print(df.dtypes)"
      ],
      "metadata": {
        "colab": {
          "base_uri": "https://localhost:8080/"
        },
        "id": "uxYvg8e96C0D",
        "outputId": "1315075a-9bfd-428f-b1ef-32fc086718c9"
      },
      "execution_count": 5,
      "outputs": [
        {
          "output_type": "stream",
          "name": "stdout",
          "text": [
            "Tipos de datos:\n",
            "hrs                        float64\n",
            "absences                   float64\n",
            "JobInvolvement             float64\n",
            "PerformanceRating          float64\n",
            "EnvironmentSatisfaction    float64\n",
            "JobSatisfaction            float64\n",
            "WorkLifeBalance            float64\n",
            "Age                        float64\n",
            "Attrition                   object\n",
            "BusinessTravel              object\n",
            "Department                  object\n",
            "DistanceFromHome           float64\n",
            "Education                  float64\n",
            "EducationField              object\n",
            "EmployeeCount              float64\n",
            "EmployeeID                 float64\n",
            "Gender                      object\n",
            "JobLevel                   float64\n",
            "JobRole                     object\n",
            "MaritalStatus               object\n",
            "MonthlyIncome              float64\n",
            "NumCompaniesWorked         float64\n",
            "Over18                      object\n",
            "PercentSalaryHike          float64\n",
            "StandardHours                int64\n",
            "StockOptionLevel           float64\n",
            "TotalWorkingYears          float64\n",
            "TrainingTimesLastYear      float64\n",
            "YearsAtCompany             float64\n",
            "YearsSinceLastPromotion      int64\n",
            "YearsWithCurrManager       float64\n",
            "dtype: object\n"
          ]
        }
      ]
    },
    {
      "cell_type": "markdown",
      "source": [
        "Podemos ver que la mayoría de datos son float, pero también observamos objetos y números enteros"
      ],
      "metadata": {
        "id": "bY575x586ZN2"
      }
    },
    {
      "cell_type": "markdown",
      "source": [
        "Vamos a comprobar si hay columnas constantes en estos datos\n"
      ],
      "metadata": {
        "id": "9_C-r28B5lKM"
      }
    },
    {
      "cell_type": "code",
      "source": [
        "# Encontrar las columnas constantes\n",
        "columnas_constantes = datos.columns[datos.nunique() == 1]\n",
        "print(columnas_constantes)"
      ],
      "metadata": {
        "colab": {
          "base_uri": "https://localhost:8080/"
        },
        "id": "pWaoiEw25Nd_",
        "outputId": "fd83906b-fa02-4b40-ce06-eeff1522c894"
      },
      "execution_count": 11,
      "outputs": [
        {
          "output_type": "stream",
          "name": "stdout",
          "text": [
            "Index(['EmployeeCount', 'Over18', 'StandardHours'], dtype='object')\n"
          ]
        }
      ]
    },
    {
      "cell_type": "markdown",
      "source": [
        "Se puede ver que \"EmployeeCount\", \"Over18\" y \"StandardHours\" tienen valores constantes, esto es bastante logico, ya que \"EmployeeCount\" indica el numero de empleados en la compañía, y este en el momento de sacar los datos, no varía. Podría variar si se vuelven a sacar los datos x días después. \n",
        "\n",
        "\"Over18\", es normal que tenga valores ctes, ya que es un objeto que puede ser o mayor o menor de 18, y sería muy raro que alguien estuviera trabajando en una empresa con menos de 18 años. \n",
        "\n",
        "Finalmente \"StandardHours\" como dice su propio nombre, es el número estandar de horas trabajadas en la compañía. Al ser un número estandar, no es personalizado por lo que siempre es el mismo."
      ],
      "metadata": {
        "id": "kKagxv_D6MQw"
      }
    },
    {
      "cell_type": "markdown",
      "source": [
        "A continuacion se comprobarán los missing values\n"
      ],
      "metadata": {
        "id": "h9TTs_s57h_w"
      }
    },
    {
      "cell_type": "code",
      "source": [
        "proporcion_missing = datos.isnull().mean()\n",
        "print(proporcion_missing)"
      ],
      "metadata": {
        "colab": {
          "base_uri": "https://localhost:8080/"
        },
        "id": "EoL-BXBx7OtP",
        "outputId": "28cfed22-b9cc-448c-f6cd-24aad6f3322b"
      },
      "execution_count": 13,
      "outputs": [
        {
          "output_type": "stream",
          "name": "stdout",
          "text": [
            "hrs                        0.205215\n",
            "absences                   0.202041\n",
            "JobInvolvement             0.162812\n",
            "PerformanceRating          0.208390\n",
            "EnvironmentSatisfaction    0.199320\n",
            "JobSatisfaction            0.214966\n",
            "WorkLifeBalance            0.174376\n",
            "Age                        0.166893\n",
            "Attrition                  0.000000\n",
            "BusinessTravel             0.192517\n",
            "Department                 0.177324\n",
            "DistanceFromHome           0.169388\n",
            "Education                  0.162132\n",
            "EducationField             0.160998\n",
            "EmployeeCount              0.186395\n",
            "EmployeeID                 0.180499\n",
            "Gender                     0.211338\n",
            "JobLevel                   0.177324\n",
            "JobRole                    0.177324\n",
            "MaritalStatus              0.000000\n",
            "MonthlyIncome              0.210658\n",
            "NumCompaniesWorked         0.212245\n",
            "Over18                     0.209524\n",
            "PercentSalaryHike          0.178685\n",
            "StandardHours              0.000000\n",
            "StockOptionLevel           0.160544\n",
            "TotalWorkingYears          0.203628\n",
            "TrainingTimesLastYear      0.201134\n",
            "YearsAtCompany             0.216780\n",
            "YearsSinceLastPromotion    0.000000\n",
            "YearsWithCurrManager       0.202948\n",
            "dtype: float64\n"
          ]
        }
      ]
    },
    {
      "cell_type": "markdown",
      "source": [
        "Se puede observar que en ciertas columnas no hay ni un solo missing value, mientras que en otras, el % de missing values puede llegar hasta el 0,21%, más de un quinto de los datos faltan."
      ],
      "metadata": {
        "id": "TaHYaffz8APl"
      }
    },
    {
      "cell_type": "markdown",
      "source": [],
      "metadata": {
        "id": "2n65mngU8R5f"
      }
    },
    {
      "cell_type": "code",
      "source": [],
      "metadata": {
        "id": "wcGIZIpe8R9X"
      },
      "execution_count": null,
      "outputs": []
    }
  ]
}