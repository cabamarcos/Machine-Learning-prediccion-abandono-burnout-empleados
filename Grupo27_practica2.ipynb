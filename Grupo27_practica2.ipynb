{
  "nbformat": 4,
  "nbformat_minor": 0,
  "metadata": {
    "colab": {
      "provenance": [],
      "authorship_tag": "ABX9TyNHY32K4OoS3GQBbCACvk6J",
      "include_colab_link": true
    },
    "kernelspec": {
      "name": "python3",
      "display_name": "Python 3"
    },
    "language_info": {
      "name": "python"
    }
  },
  "cells": [
    {
      "cell_type": "markdown",
      "metadata": {
        "id": "view-in-github",
        "colab_type": "text"
      },
      "source": [
        "<a href=\"https://colab.research.google.com/github/cabamarcos/Grupo27_practica2/blob/main/Grupo27_practica2.ipynb\" target=\"_parent\"><img src=\"https://colab.research.google.com/assets/colab-badge.svg\" alt=\"Open In Colab\"/></a>"
      ]
    },
    {
      "cell_type": "markdown",
      "source": [
        "#1. Importación de librerías y datos"
      ],
      "metadata": {
        "id": "TYFyiH8a4RIl"
      }
    },
    {
      "cell_type": "markdown",
      "source": [
        "Hacemos los imports correspondientes\n",
        "\n"
      ],
      "metadata": {
        "id": "qwkgXjdQ4KNP"
      }
    },
    {
      "cell_type": "code",
      "execution_count": 23,
      "metadata": {
        "id": "4PkaR_3K2r0Q"
      },
      "outputs": [],
      "source": [
        "import pandas as pd\n",
        "import numpy as np\n",
        "import pickle\n",
        "import matplotlib.pyplot as plt"
      ]
    },
    {
      "cell_type": "code",
      "source": [
        "with open('attrition_available_27.pkl', 'rb') as archivo:\n",
        "    datos = pickle.load(archivo)\n",
        "\n",
        "print(datos)"
      ],
      "metadata": {
        "colab": {
          "base_uri": "https://localhost:8080/"
        },
        "id": "bKaTlZ5R4YZO",
        "outputId": "1b52fba9-c3af-48dd-859d-69f78608bb5c"
      },
      "execution_count": 2,
      "outputs": [
        {
          "output_type": "stream",
          "name": "stdout",
          "text": [
            "           hrs  absences  JobInvolvement  PerformanceRating  \\\n",
            "1     7.315971      13.0             2.0                4.0   \n",
            "6     6.450877      17.0             3.0                4.0   \n",
            "13    8.871421      14.0             2.0                3.0   \n",
            "28         NaN       6.0             2.0                3.0   \n",
            "30    9.662808      11.0             2.0                3.0   \n",
            "...        ...       ...             ...                ...   \n",
            "4405  8.316921       6.0             3.0                3.0   \n",
            "4406  5.897197       NaN             2.0                3.0   \n",
            "4407       NaN      18.0             3.0                4.0   \n",
            "4408  9.187612       NaN             2.0                3.0   \n",
            "4409  6.511790      17.0             4.0                3.0   \n",
            "\n",
            "      EnvironmentSatisfaction  JobSatisfaction  WorkLifeBalance   Age  \\\n",
            "1                         3.0              2.0              4.0  31.0   \n",
            "6                         1.0              3.0              1.0   NaN   \n",
            "13                        1.0              2.0              2.0   NaN   \n",
            "28                        4.0              3.0              1.0  44.0   \n",
            "30                        1.0              2.0              3.0  26.0   \n",
            "...                       ...              ...              ...   ...   \n",
            "4405                      4.0              1.0              3.0  42.0   \n",
            "4406                      4.0              4.0              3.0  29.0   \n",
            "4407                      1.0              3.0              3.0  25.0   \n",
            "4408                      4.0              1.0              NaN  42.0   \n",
            "4409                      NaN              3.0              NaN   NaN   \n",
            "\n",
            "     Attrition     BusinessTravel  ... NumCompaniesWorked  Over18  \\\n",
            "1          Yes  Travel_Frequently  ...                0.0       Y   \n",
            "6          Yes      Travel_Rarely  ...                2.0       Y   \n",
            "13         Yes         Non-Travel  ...                NaN       Y   \n",
            "28         Yes  Travel_Frequently  ...                NaN       Y   \n",
            "30         Yes                NaN  ...                2.0     NaN   \n",
            "...        ...                ...  ...                ...     ...   \n",
            "4405        No      Travel_Rarely  ...                NaN       Y   \n",
            "4406        No      Travel_Rarely  ...                2.0       Y   \n",
            "4407        No      Travel_Rarely  ...                0.0       Y   \n",
            "4408        No      Travel_Rarely  ...                0.0       Y   \n",
            "4409        No      Travel_Rarely  ...                NaN       Y   \n",
            "\n",
            "      PercentSalaryHike StandardHours  StockOptionLevel  TotalWorkingYears  \\\n",
            "1                  23.0             8               NaN                6.0   \n",
            "6                  20.0             8               1.0                5.0   \n",
            "13                 11.0             8               2.0               10.0   \n",
            "28                 14.0             8               1.0               19.0   \n",
            "30                 11.0             8               0.0                NaN   \n",
            "...                 ...           ...               ...                ...   \n",
            "4405               17.0             8               1.0               10.0   \n",
            "4406               15.0             8               0.0                NaN   \n",
            "4407                NaN             8               0.0                NaN   \n",
            "4408               14.0             8               NaN               10.0   \n",
            "4409               12.0             8               NaN                NaN   \n",
            "\n",
            "     TrainingTimesLastYear  YearsAtCompany YearsSinceLastPromotion  \\\n",
            "1                      NaN             NaN                       1   \n",
            "6                      2.0             0.0                       0   \n",
            "13                     4.0            10.0                       9   \n",
            "28                     2.0             1.0                       0   \n",
            "30                     5.0             3.0                       0   \n",
            "...                    ...             ...                     ...   \n",
            "4405                   5.0             NaN                       0   \n",
            "4406                   2.0             3.0                       0   \n",
            "4407                   4.0             NaN                       1   \n",
            "4408                   2.0             9.0                       7   \n",
            "4409                   6.0            21.0                       3   \n",
            "\n",
            "     YearsWithCurrManager  \n",
            "1                     4.0  \n",
            "6                     0.0  \n",
            "13                    9.0  \n",
            "28                    0.0  \n",
            "30                    2.0  \n",
            "...                   ...  \n",
            "4405                  2.0  \n",
            "4406                  NaN  \n",
            "4407                  NaN  \n",
            "4408                  8.0  \n",
            "4409                  9.0  \n",
            "\n",
            "[4410 rows x 31 columns]\n"
          ]
        }
      ]
    },
    {
      "cell_type": "markdown",
      "source": [
        "#2. EDA"
      ],
      "metadata": {
        "id": "dNKxYf7K5Ehw"
      }
    },
    {
      "cell_type": "markdown",
      "source": [
        "## Visualización"
      ],
      "metadata": {
        "id": "WIobNQu-AJSF"
      }
    },
    {
      "cell_type": "markdown",
      "source": [
        "Convertimos los datos en un dataframe"
      ],
      "metadata": {
        "id": "Ik_zDh-65JZJ"
      }
    },
    {
      "cell_type": "code",
      "source": [
        "df = pd.DataFrame(datos)"
      ],
      "metadata": {
        "id": "uvu9Al8I5IAv"
      },
      "execution_count": 3,
      "outputs": []
    },
    {
      "cell_type": "markdown",
      "source": [
        "Sacamos el número de instancias y el número de atributos"
      ],
      "metadata": {
        "id": "woXlE6In6Dul"
      }
    },
    {
      "cell_type": "code",
      "source": [
        "print(\"Número de instancias:\", len(df))\n",
        "print(\"Número de atributos:\", len(df.columns))"
      ],
      "metadata": {
        "colab": {
          "base_uri": "https://localhost:8080/"
        },
        "id": "LfVMgmpN6D6-",
        "outputId": "6337ce7a-6425-4152-b75c-cf0837decaa9"
      },
      "execution_count": 4,
      "outputs": [
        {
          "output_type": "stream",
          "name": "stdout",
          "text": [
            "Número de instancias: 4410\n",
            "Número de atributos: 31\n"
          ]
        }
      ]
    },
    {
      "cell_type": "markdown",
      "source": [
        "Vemos el tipo de datos de las instacias"
      ],
      "metadata": {
        "id": "iC46F9QY6Caf"
      }
    },
    {
      "cell_type": "code",
      "source": [
        "print(\"Tipos de datos:\")\n",
        "print(df.dtypes)"
      ],
      "metadata": {
        "colab": {
          "base_uri": "https://localhost:8080/"
        },
        "id": "uxYvg8e96C0D",
        "outputId": "cab94950-d255-4ee2-c7bb-6a2d7c757d4a"
      },
      "execution_count": 5,
      "outputs": [
        {
          "output_type": "stream",
          "name": "stdout",
          "text": [
            "Tipos de datos:\n",
            "hrs                        float64\n",
            "absences                   float64\n",
            "JobInvolvement             float64\n",
            "PerformanceRating          float64\n",
            "EnvironmentSatisfaction    float64\n",
            "JobSatisfaction            float64\n",
            "WorkLifeBalance            float64\n",
            "Age                        float64\n",
            "Attrition                   object\n",
            "BusinessTravel              object\n",
            "Department                  object\n",
            "DistanceFromHome           float64\n",
            "Education                  float64\n",
            "EducationField              object\n",
            "EmployeeCount              float64\n",
            "EmployeeID                 float64\n",
            "Gender                      object\n",
            "JobLevel                   float64\n",
            "JobRole                     object\n",
            "MaritalStatus               object\n",
            "MonthlyIncome              float64\n",
            "NumCompaniesWorked         float64\n",
            "Over18                      object\n",
            "PercentSalaryHike          float64\n",
            "StandardHours                int64\n",
            "StockOptionLevel           float64\n",
            "TotalWorkingYears          float64\n",
            "TrainingTimesLastYear      float64\n",
            "YearsAtCompany             float64\n",
            "YearsSinceLastPromotion      int64\n",
            "YearsWithCurrManager       float64\n",
            "dtype: object\n"
          ]
        }
      ]
    },
    {
      "cell_type": "markdown",
      "source": [
        "Podemos ver que la mayoría de datos son float, pero también observamos objetos y números enteros"
      ],
      "metadata": {
        "id": "bY575x586ZN2"
      }
    },
    {
      "cell_type": "markdown",
      "source": [
        "## Datos constantes"
      ],
      "metadata": {
        "id": "-i4mH6adAE2K"
      }
    },
    {
      "cell_type": "markdown",
      "source": [
        "Queremos ver si tenemos alguna columna con datos constantes"
      ],
      "metadata": {
        "id": "ytgEMmN29VNw"
      }
    },
    {
      "cell_type": "code",
      "source": [
        "columnas_constantes = []\n",
        "for columna in df.columns:\n",
        "    if df[columna].nunique() == 1:\n",
        "        columnas_constantes.append(columna)\n",
        "\n",
        "if len(columnas_constantes) > 0:\n",
        "    print(\"Las siguientes columnas tienen datos constantes:\")\n",
        "    print(columnas_constantes)\n",
        "else:\n",
        "    print(\"No hay columnas con datos constantes.\")"
      ],
      "metadata": {
        "id": "44E6YDXo9py_",
        "outputId": "5f222665-d47f-4f37-abd9-f109d701f0af",
        "colab": {
          "base_uri": "https://localhost:8080/"
        }
      },
      "execution_count": 6,
      "outputs": [
        {
          "output_type": "stream",
          "name": "stdout",
          "text": [
            "Las siguientes columnas tienen datos constantes:\n",
            "['EmployeeCount', 'Over18', 'StandardHours']\n"
          ]
        }
      ]
    },
    {
      "cell_type": "markdown",
      "source": [
        "Podemos ver que tenemos 3 coloumnas con satos constantes:\n",
        " - EmployeeCount: Número de empleados en la compañía.\n",
        " - Over18: Si los empleados son mayores de 18.\n",
        " - StandardHours: El número estándar de horas de trabajo en la empresa.\n",
        "\n",
        "Esto es bastante logico, ya que \"EmployeeCount\" indica el numero de empleados en la compañía, y este, en el momento de sacar los datos, no varía. Podría variar si se vuelven a sacar los datos x días después.\n",
        "\n",
        "\"Over18\", es normal que tenga valores ctes, ya que es un objeto que puede ser o mayor o menor de 18, y sería muy raro que alguien estuviera trabajando en una empresa con menos de 18 años.\n",
        "\n",
        "Finalmente \"StandardHours\" como dice su propio nombre, es el número estandar de horas trabajadas en la compañía. Al ser un número estandar, no es personalizado por lo que siempre es el mismo.\n",
        "\n",
        "Vamos a ver cual es el dato que se repite en cada una de ellas"
      ],
      "metadata": {
        "id": "HfaG4ph39__2"
      }
    },
    {
      "cell_type": "code",
      "source": [
        "print(\"Primer dato de la columna 'EmployeeCount':\", df['EmployeeCount'][0])\n",
        "print(\"Primer dato de la columna 'Over18':\", df['Over18'][0])\n",
        "print(\"Primer dato de la columna 'StandardHours':\", df['StandardHours'][0])"
      ],
      "metadata": {
        "id": "vzXJEtew-WjP",
        "outputId": "d609fb8f-bb18-445d-f39b-53640c545cf5",
        "colab": {
          "base_uri": "https://localhost:8080/"
        }
      },
      "execution_count": 8,
      "outputs": [
        {
          "output_type": "stream",
          "name": "stdout",
          "text": [
            "Primer dato de la columna 'EmployeeCount': 1.0\n",
            "Primer dato de la columna 'Over18': Y\n",
            "Primer dato de la columna 'StandardHours': 8\n"
          ]
        }
      ]
    },
    {
      "cell_type": "markdown",
      "source": [
        "Vamos a comprobar si esto es cierto"
      ],
      "metadata": {
        "id": "WV4GMp8X_sHo"
      }
    },
    {
      "cell_type": "code",
      "source": [
        "print(\"Datos de la columna 'EmployeeCount':\")\n",
        "print(df['EmployeeCount'])\n",
        "\n",
        "print(\"\\nDatos de la columna 'Over18':\")\n",
        "print(df['Over18'])\n",
        "\n",
        "print(\"\\nDatos de la columna 'StandardHours':\")\n",
        "print(df['StandardHours'])"
      ],
      "metadata": {
        "id": "U2rGUgNI_3Dj",
        "outputId": "75092583-f14c-4772-b3c5-66ca5aac593f",
        "colab": {
          "base_uri": "https://localhost:8080/"
        }
      },
      "execution_count": 9,
      "outputs": [
        {
          "output_type": "stream",
          "name": "stdout",
          "text": [
            "Datos de la columna 'EmployeeCount':\n",
            "1       1.0\n",
            "6       1.0\n",
            "13      1.0\n",
            "28      1.0\n",
            "30      1.0\n",
            "       ... \n",
            "4405    NaN\n",
            "4406    NaN\n",
            "4407    1.0\n",
            "4408    1.0\n",
            "4409    NaN\n",
            "Name: EmployeeCount, Length: 4410, dtype: float64\n",
            "\n",
            "Datos de la columna 'Over18':\n",
            "1         Y\n",
            "6         Y\n",
            "13        Y\n",
            "28        Y\n",
            "30      NaN\n",
            "       ... \n",
            "4405      Y\n",
            "4406      Y\n",
            "4407      Y\n",
            "4408      Y\n",
            "4409      Y\n",
            "Name: Over18, Length: 4410, dtype: object\n",
            "\n",
            "Datos de la columna 'StandardHours':\n",
            "1       8\n",
            "6       8\n",
            "13      8\n",
            "28      8\n",
            "30      8\n",
            "       ..\n",
            "4405    8\n",
            "4406    8\n",
            "4407    8\n",
            "4408    8\n",
            "4409    8\n",
            "Name: StandardHours, Length: 4410, dtype: int64\n"
          ]
        }
      ]
    },
    {
      "cell_type": "markdown",
      "source": [
        "Podemos ver que esto es cierto, pero que hay datos que faltan."
      ],
      "metadata": {
        "id": "XiKUlhzB_6Px"
      }
    },
    {
      "cell_type": "markdown",
      "source": [
        "## Datos nulos"
      ],
      "metadata": {
        "id": "qmwsVfL3AAtw"
      }
    },
    {
      "cell_type": "markdown",
      "source": [
        "Vamos a comprobar el numero total de datos nulos en cada columna."
      ],
      "metadata": {
        "id": "OxzMe1sUA7HW"
      }
    },
    {
      "cell_type": "code",
      "source": [
        "nulos_por_columna = df.isnull().sum()\n",
        "porcentaje_nulos_por_columna = (nulos_por_columna / len(df)) * 100\n",
        "\n",
        "for columna in df.columns:\n",
        "    print(f\"'{columna}': {nulos_por_columna[columna]}, {porcentaje_nulos_por_columna[columna]:.2f}%\")"
      ],
      "metadata": {
        "id": "8OAR4HH9AOjK",
        "outputId": "012d52ed-2bbf-46da-f224-8f0ced62e9e9",
        "colab": {
          "base_uri": "https://localhost:8080/"
        }
      },
      "execution_count": 13,
      "outputs": [
        {
          "output_type": "stream",
          "name": "stdout",
          "text": [
            "'hrs': 905, 20.52%\n",
            "'absences': 891, 20.20%\n",
            "'JobInvolvement': 718, 16.28%\n",
            "'PerformanceRating': 919, 20.84%\n",
            "'EnvironmentSatisfaction': 879, 19.93%\n",
            "'JobSatisfaction': 948, 21.50%\n",
            "'WorkLifeBalance': 769, 17.44%\n",
            "'Age': 736, 16.69%\n",
            "'Attrition': 0, 0.00%\n",
            "'BusinessTravel': 849, 19.25%\n",
            "'Department': 782, 17.73%\n",
            "'DistanceFromHome': 747, 16.94%\n",
            "'Education': 715, 16.21%\n",
            "'EducationField': 710, 16.10%\n",
            "'EmployeeCount': 822, 18.64%\n",
            "'EmployeeID': 796, 18.05%\n",
            "'Gender': 932, 21.13%\n",
            "'JobLevel': 782, 17.73%\n",
            "'JobRole': 782, 17.73%\n",
            "'MaritalStatus': 0, 0.00%\n",
            "'MonthlyIncome': 929, 21.07%\n",
            "'NumCompaniesWorked': 936, 21.22%\n",
            "'Over18': 924, 20.95%\n",
            "'PercentSalaryHike': 788, 17.87%\n",
            "'StandardHours': 0, 0.00%\n",
            "'StockOptionLevel': 708, 16.05%\n",
            "'TotalWorkingYears': 898, 20.36%\n",
            "'TrainingTimesLastYear': 887, 20.11%\n",
            "'YearsAtCompany': 956, 21.68%\n",
            "'YearsSinceLastPromotion': 0, 0.00%\n",
            "'YearsWithCurrManager': 895, 20.29%\n"
          ]
        }
      ]
    },
    {
      "cell_type": "markdown",
      "source": [
        "Se puede observar que en ciertas columnas no hay ni un solo missing value, mientras que en otras, el % de missing values puede llegar hasta el 0,21%, más de un quinto de los datos faltan.\n",
        "\n",
        "Esto nos lleva a tener que pensar una estrategia para ver que podemos hacer con esos datos que faltan"
      ],
      "metadata": {
        "id": "gtkrZFy4D4ZI"
      }
    },
    {
      "cell_type": "markdown",
      "source": [
        "Primero vamos a realizar un análisis estadístico"
      ],
      "metadata": {
        "id": "XXoz919kEAgs"
      }
    },
    {
      "cell_type": "code",
      "source": [
        "# Calcula las estadísticas descriptivas para cada variable\n",
        "desc_stats = df.describe()\n",
        "print(desc_stats)"
      ],
      "metadata": {
        "id": "GaQgBOsGD4MY",
        "outputId": "4e8960cf-0dba-4d7f-a285-717b53531ede",
        "colab": {
          "base_uri": "https://localhost:8080/"
        }
      },
      "execution_count": 20,
      "outputs": [
        {
          "output_type": "stream",
          "name": "stdout",
          "text": [
            "               hrs     absences  JobInvolvement  PerformanceRating  \\\n",
            "count  3505.000000  3519.000000     3692.000000        3491.000000   \n",
            "mean      7.318161    12.709292        2.729415           3.153538   \n",
            "std       1.330881     5.492969        0.710773           0.360557   \n",
            "min       5.416880     1.000000        1.000000           3.000000   \n",
            "25%       6.281167     8.000000        2.000000           3.000000   \n",
            "50%       7.027552    13.000000        3.000000           3.000000   \n",
            "75%       7.923872    17.000000        3.000000           3.000000   \n",
            "max      10.937261    24.000000        4.000000           4.000000   \n",
            "\n",
            "       EnvironmentSatisfaction  JobSatisfaction  WorkLifeBalance          Age  \\\n",
            "count              3531.000000      3462.000000      3641.000000  3674.000000   \n",
            "mean                  2.719060         2.710861         2.751991    36.950191   \n",
            "std                   1.093544         1.111206         0.712342     9.135962   \n",
            "min                   1.000000         1.000000         1.000000    18.000000   \n",
            "25%                   2.000000         2.000000         2.000000    30.000000   \n",
            "50%                   3.000000         3.000000         3.000000    36.000000   \n",
            "75%                   4.000000         4.000000         3.000000    43.000000   \n",
            "max                   4.000000         4.000000         4.000000    60.000000   \n",
            "\n",
            "       DistanceFromHome    Education  ...  MonthlyIncome  NumCompaniesWorked  \\\n",
            "count       3663.000000  3695.000000  ...    3481.000000         3474.000000   \n",
            "mean           9.161889     2.912585  ...   65162.143062            2.730570   \n",
            "std            8.107433     1.028659  ...   47398.517998            2.511351   \n",
            "min            1.000000     1.000000  ...   10090.000000            0.000000   \n",
            "25%            2.000000     2.000000  ...   29040.000000            1.000000   \n",
            "50%            7.000000     3.000000  ...   49070.000000            2.000000   \n",
            "75%           14.000000     4.000000  ...   84460.000000            4.000000   \n",
            "max           29.000000     5.000000  ...  199990.000000            9.000000   \n",
            "\n",
            "       PercentSalaryHike  StandardHours  StockOptionLevel  TotalWorkingYears  \\\n",
            "count        3622.000000         4410.0       3702.000000        3512.000000   \n",
            "mean           15.221149            8.0          0.791464          11.367027   \n",
            "std             3.681607            0.0          0.852704           7.846866   \n",
            "min            11.000000            8.0          0.000000           0.000000   \n",
            "25%            12.000000            8.0          0.000000           6.000000   \n",
            "50%            14.000000            8.0          1.000000          10.000000   \n",
            "75%            18.000000            8.0          1.000000          15.000000   \n",
            "max            25.000000            8.0          3.000000          40.000000   \n",
            "\n",
            "       TrainingTimesLastYear  YearsAtCompany  YearsSinceLastPromotion  \\\n",
            "count            3523.000000     3454.000000              4410.000000   \n",
            "mean                2.787965        7.024320                 2.187755   \n",
            "std                 1.286435        6.173051                 3.221699   \n",
            "min                 0.000000        0.000000                 0.000000   \n",
            "25%                 2.000000        3.000000                 0.000000   \n",
            "50%                 3.000000        5.000000                 1.000000   \n",
            "75%                 3.000000        9.000000                 3.000000   \n",
            "max                 6.000000       40.000000                15.000000   \n",
            "\n",
            "       YearsWithCurrManager  \n",
            "count           3515.000000  \n",
            "mean               4.191750  \n",
            "std                3.578248  \n",
            "min                0.000000  \n",
            "25%                2.000000  \n",
            "50%                3.000000  \n",
            "75%                7.000000  \n",
            "max               17.000000  \n",
            "\n",
            "[8 rows x 23 columns]\n"
          ]
        }
      ]
    }
  ]
}